{
 "cells": [
  {
   "cell_type": "code",
   "execution_count": 1,
   "id": "4e60719f",
   "metadata": {},
   "outputs": [],
   "source": [
    "import numpy as np\n",
    "import os\n",
    "import cv2\n",
    "import matplotlib.pyplot as plt\n",
    "%matplotlib inline\n",
    "from tqdm import tqdm\n",
    "import warnings\n",
    "warnings.filterwarnings(\"ignore\")"
   ]
  },
  {
   "cell_type": "code",
   "execution_count": 2,
   "id": "a83af133",
   "metadata": {},
   "outputs": [],
   "source": [
    "DIRECTORY = r\"C:\\Users\\sowmy\\Downloads\\kagglecatsanddogs_5340\\PetImages\"\n",
    "CATEGORIES = ['Cat','DOGSS']"
   ]
  },
  {
   "cell_type": "code",
   "execution_count": 3,
   "id": "86aed010",
   "metadata": {},
   "outputs": [
    {
     "name": "stdout",
     "output_type": "stream",
     "text": [
      "C:\\Users\\sowmy\\Downloads\\kagglecatsanddogs_5340\\PetImages\\Cat\n",
      "C:\\Users\\sowmy\\Downloads\\kagglecatsanddogs_5340\\PetImages\\DOGSS\n"
     ]
    }
   ],
   "source": [
    "import matplotlib.image as imgmp\n",
    "data = []\n",
    "for category in CATEGORIES:\n",
    "    path = os.path.join(DIRECTORY, category)\n",
    "    print(path)\n",
    "    for img in os.listdir(path):  \n",
    "        try:\n",
    "            img_path = os.path.join(path, img)\n",
    "            label = CATEGORIES.index(category)\n",
    "            arr = cv2.imread(img_path, cv2.IMREAD_GRAYSCALE)\n",
    "            arr = cv2.resize(arr, (60, 60))\n",
    "            data.append([arr,label])\n",
    "        except Exception as e:\n",
    "            print(img_path)"
   ]
  },
  {
   "cell_type": "code",
   "execution_count": 4,
   "id": "4d04cc4d",
   "metadata": {},
   "outputs": [],
   "source": [
    "import random\n",
    "random.shuffle(data)"
   ]
  },
  {
   "cell_type": "code",
   "execution_count": 5,
   "id": "c9425044",
   "metadata": {},
   "outputs": [],
   "source": [
    "X = []\n",
    "y = []"
   ]
  },
  {
   "cell_type": "code",
   "execution_count": 6,
   "id": "db28a26e",
   "metadata": {},
   "outputs": [],
   "source": [
    "for features, label in data:\n",
    "    X.append(features)\n",
    "    y.append(label)"
   ]
  },
  {
   "cell_type": "code",
   "execution_count": 7,
   "id": "aaf9cc5d",
   "metadata": {},
   "outputs": [
    {
     "data": {
      "text/plain": [
       "3997"
      ]
     },
     "execution_count": 7,
     "metadata": {},
     "output_type": "execute_result"
    }
   ],
   "source": [
    "X = np.array(X)\n",
    "y = np.array(y)\n",
    "len(y)"
   ]
  },
  {
   "cell_type": "code",
   "execution_count": 8,
   "id": "f9543d99",
   "metadata": {},
   "outputs": [
    {
     "data": {
      "text/plain": [
       "array([1, 1, 1, ..., 1, 0, 0])"
      ]
     },
     "execution_count": 8,
     "metadata": {},
     "output_type": "execute_result"
    }
   ],
   "source": [
    "y"
   ]
  },
  {
   "cell_type": "code",
   "execution_count": 9,
   "id": "3174d6f6",
   "metadata": {},
   "outputs": [
    {
     "data": {
      "text/plain": [
       "array([[[255, 255, 255, ..., 255, 255, 255],\n",
       "        [255, 255, 255, ..., 255, 255, 255],\n",
       "        [255, 255, 255, ..., 255, 255, 255],\n",
       "        ...,\n",
       "        [255, 255, 255, ..., 255, 255, 255],\n",
       "        [255, 255, 255, ..., 255, 255, 255],\n",
       "        [255, 255, 255, ..., 255, 255, 255]],\n",
       "\n",
       "       [[219, 116, 121, ...,  50,  44,  43],\n",
       "        [214, 115, 122, ...,  48,  40,  35],\n",
       "        [209, 112, 120, ...,  42,  31,  25],\n",
       "        ...,\n",
       "        [105, 108, 105, ...,  44,  42,  46],\n",
       "        [102, 106, 103, ...,  44,  48,  44],\n",
       "        [106, 109, 103, ...,  47,  47,  49]],\n",
       "\n",
       "       [[ 61,  58,  53, ..., 107,  41,  37],\n",
       "        [ 62,  62,  57, ..., 113,  40,  43],\n",
       "        [ 59,  63,  59, ..., 103,  40,  42],\n",
       "        ...,\n",
       "        [194, 193, 208, ..., 202, 206, 230],\n",
       "        [210, 184, 144, ..., 215, 207, 215],\n",
       "        [194, 163, 192, ..., 183, 194, 211]],\n",
       "\n",
       "       ...,\n",
       "\n",
       "       [[ 53,  54,  49, ...,  57,  57,  32],\n",
       "        [ 51,  54,  51, ...,  56,  76,  44],\n",
       "        [ 57,  51,  52, ...,  93,  75,  55],\n",
       "        ...,\n",
       "        [ 73,  73,  74, ..., 127, 127, 121],\n",
       "        [107,  91,  71, ..., 111, 114, 110],\n",
       "        [ 93,  87,  88, ..., 113, 106, 116]],\n",
       "\n",
       "       [[ 57,  58,  59, ...,  33,  33,  33],\n",
       "        [ 57,  58,  58, ...,  34,  32,  32],\n",
       "        [ 57,  58,  58, ...,  34,  34,  34],\n",
       "        ...,\n",
       "        [ 30,  22,  42, ...,  29,  28,  28],\n",
       "        [ 25,  23,  41, ...,  28,  28,  28],\n",
       "        [ 34,  26,  43, ...,  29,  29,  29]],\n",
       "\n",
       "       [[250, 253, 254, ..., 106, 102,  96],\n",
       "        [250, 254, 254, ..., 107, 100,  94],\n",
       "        [252, 254, 254, ..., 101,  98,  93],\n",
       "        ...,\n",
       "        [133, 131, 118, ..., 204, 153, 128],\n",
       "        [118, 100,  98, ..., 223, 214, 158],\n",
       "        [120, 146, 201, ..., 208, 210, 162]]], dtype=uint8)"
      ]
     },
     "execution_count": 9,
     "metadata": {},
     "output_type": "execute_result"
    }
   ],
   "source": [
    "X"
   ]
  },
  {
   "cell_type": "code",
   "execution_count": 10,
   "id": "028245b4",
   "metadata": {},
   "outputs": [],
   "source": [
    "import pickle"
   ]
  },
  {
   "cell_type": "code",
   "execution_count": 11,
   "id": "87466770",
   "metadata": {},
   "outputs": [],
   "source": [
    "pickle.dump(X, open('X.pkl', 'wb'))\n",
    "pickle.dump(y, open('y.pkl', 'wb'))"
   ]
  },
  {
   "cell_type": "code",
   "execution_count": 12,
   "id": "a3008090",
   "metadata": {},
   "outputs": [],
   "source": [
    "\n"
   ]
  },
  {
   "cell_type": "code",
   "execution_count": null,
   "id": "91e2265d",
   "metadata": {},
   "outputs": [],
   "source": []
  }
 ],
 "metadata": {
  "kernelspec": {
   "display_name": "Python 3 (ipykernel)",
   "language": "python",
   "name": "python3"
  },
  "language_info": {
   "codemirror_mode": {
    "name": "ipython",
    "version": 3
   },
   "file_extension": ".py",
   "mimetype": "text/x-python",
   "name": "python",
   "nbconvert_exporter": "python",
   "pygments_lexer": "ipython3",
   "version": "3.9.7"
  }
 },
 "nbformat": 4,
 "nbformat_minor": 5
}
