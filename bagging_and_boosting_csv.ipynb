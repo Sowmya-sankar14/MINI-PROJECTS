{
  "nbformat": 4,
  "nbformat_minor": 0,
  "metadata": {
    "colab": {
      "name": "bagging and boosting_csv.ipynb",
      "provenance": [],
      "collapsed_sections": []
    },
    "kernelspec": {
      "name": "python3",
      "display_name": "Python 3"
    },
    "language_info": {
      "name": "python"
    }
  },
  "cells": [
    {
      "cell_type": "code",
      "execution_count": null,
      "metadata": {
        "id": "6WeMmMj7fx3R"
      },
      "outputs": [],
      "source": [
        "from google.colab import drive"
      ]
    },
    {
      "cell_type": "code",
      "source": [
        "drive.mount('/content/drive/')"
      ],
      "metadata": {
        "colab": {
          "base_uri": "https://localhost:8080/"
        },
        "id": "c4bs9QJBg1Vj",
        "outputId": "16edf411-2bbd-40a9-f8c7-7d639f9e5553"
      },
      "execution_count": null,
      "outputs": [
        {
          "output_type": "stream",
          "name": "stdout",
          "text": [
            "Drive already mounted at /content/drive/; to attempt to forcibly remount, call drive.mount(\"/content/drive/\", force_remount=True).\n"
          ]
        }
      ]
    },
    {
      "cell_type": "code",
      "source": [
        "import pandas as pd\n",
        "import matplotlib.pyplot as pandas\n",
        "import seaborn as sns"
      ],
      "metadata": {
        "id": "Ya7X5UdkhnHI"
      },
      "execution_count": null,
      "outputs": []
    },
    {
      "cell_type": "code",
      "source": [
        "file=pd.read_csv('/content/drive/MyDrive/0.MKCE/Datasets/Social_Network_Ads.csv')"
      ],
      "metadata": {
        "id": "OKUCobhVhQhi"
      },
      "execution_count": null,
      "outputs": []
    },
    {
      "cell_type": "code",
      "source": [
        "file.info()         "
      ],
      "metadata": {
        "colab": {
          "base_uri": "https://localhost:8080/"
        },
        "id": "ax2Bnk7fhiay",
        "outputId": "4c12eee1-ee13-45fd-b4da-13f74fbf4790"
      },
      "execution_count": null,
      "outputs": [
        {
          "output_type": "stream",
          "name": "stdout",
          "text": [
            "<class 'pandas.core.frame.DataFrame'>\n",
            "RangeIndex: 400 entries, 0 to 399\n",
            "Data columns (total 5 columns):\n",
            " #   Column           Non-Null Count  Dtype  \n",
            "---  ------           --------------  -----  \n",
            " 0   User ID          400 non-null    int64  \n",
            " 1   Gender           400 non-null    object \n",
            " 2   Age              400 non-null    float64\n",
            " 3   EstimatedSalary  400 non-null    float64\n",
            " 4   Purchased        400 non-null    int64  \n",
            "dtypes: float64(2), int64(2), object(1)\n",
            "memory usage: 15.8+ KB\n"
          ]
        }
      ]
    },
    {
      "cell_type": "code",
      "source": [
        "file.describe"
      ],
      "metadata": {
        "colab": {
          "base_uri": "https://localhost:8080/"
        },
        "id": "PuQlQ3g_h3R8",
        "outputId": "ed25ba96-4e84-4f83-c1f4-5a29cbb98bc8"
      },
      "execution_count": null,
      "outputs": [
        {
          "output_type": "execute_result",
          "data": {
            "text/plain": [
              "<bound method NDFrame.describe of       User ID  Gender   Age  EstimatedSalary  Purchased\n",
              "0    15624510    Male  19.0          19000.0          0\n",
              "1    15810944    Male  35.0          20000.0          0\n",
              "2    15668575  Female  26.0          43000.0          0\n",
              "3    15603246  Female  27.0          57000.0          0\n",
              "4    15804002    Male  19.0          76000.0          0\n",
              "..        ...     ...   ...              ...        ...\n",
              "395  15691863  Female  46.0          41000.0          1\n",
              "396  15706071    Male  51.0          23000.0          1\n",
              "397  15654296  Female  50.0          20000.0          1\n",
              "398  15755018    Male  36.0          33000.0          0\n",
              "399  15594041  Female  49.0          36000.0          1\n",
              "\n",
              "[400 rows x 5 columns]>"
            ]
          },
          "metadata": {},
          "execution_count": 25
        }
      ]
    },
    {
      "cell_type": "code",
      "source": [
        "file.columns"
      ],
      "metadata": {
        "colab": {
          "base_uri": "https://localhost:8080/"
        },
        "id": "y_1KwutVh6Oh",
        "outputId": "bdaebf78-d4b3-42e0-d6fc-17cf67c2ef0f"
      },
      "execution_count": null,
      "outputs": [
        {
          "output_type": "execute_result",
          "data": {
            "text/plain": [
              "Index(['User ID', 'Gender', 'Age', 'EstimatedSalary', 'Purchased'], dtype='object')"
            ]
          },
          "metadata": {},
          "execution_count": 26
        }
      ]
    },
    {
      "cell_type": "code",
      "source": [
        "file.shape"
      ],
      "metadata": {
        "colab": {
          "base_uri": "https://localhost:8080/"
        },
        "id": "CVzj1S_ih_hY",
        "outputId": "04f06d51-6723-497d-9f6d-08ef9150d36d"
      },
      "execution_count": null,
      "outputs": [
        {
          "output_type": "execute_result",
          "data": {
            "text/plain": [
              "(400, 5)"
            ]
          },
          "metadata": {},
          "execution_count": 27
        }
      ]
    },
    {
      "cell_type": "code",
      "source": [
        "file.head\n",
        "file"
      ],
      "metadata": {
        "colab": {
          "base_uri": "https://localhost:8080/",
          "height": 423
        },
        "id": "b3tMarijiBaw",
        "outputId": "17fc18ce-2702-47eb-c626-f80a54e32958"
      },
      "execution_count": null,
      "outputs": [
        {
          "output_type": "execute_result",
          "data": {
            "text/plain": [
              "      User ID  Gender   Age  EstimatedSalary  Purchased\n",
              "0    15624510    Male  19.0          19000.0          0\n",
              "1    15810944    Male  35.0          20000.0          0\n",
              "2    15668575  Female  26.0          43000.0          0\n",
              "3    15603246  Female  27.0          57000.0          0\n",
              "4    15804002    Male  19.0          76000.0          0\n",
              "..        ...     ...   ...              ...        ...\n",
              "395  15691863  Female  46.0          41000.0          1\n",
              "396  15706071    Male  51.0          23000.0          1\n",
              "397  15654296  Female  50.0          20000.0          1\n",
              "398  15755018    Male  36.0          33000.0          0\n",
              "399  15594041  Female  49.0          36000.0          1\n",
              "\n",
              "[400 rows x 5 columns]"
            ],
            "text/html": [
              "\n",
              "  <div id=\"df-c60b0797-4300-4f9d-ab56-9ada465fb96e\">\n",
              "    <div class=\"colab-df-container\">\n",
              "      <div>\n",
              "<style scoped>\n",
              "    .dataframe tbody tr th:only-of-type {\n",
              "        vertical-align: middle;\n",
              "    }\n",
              "\n",
              "    .dataframe tbody tr th {\n",
              "        vertical-align: top;\n",
              "    }\n",
              "\n",
              "    .dataframe thead th {\n",
              "        text-align: right;\n",
              "    }\n",
              "</style>\n",
              "<table border=\"1\" class=\"dataframe\">\n",
              "  <thead>\n",
              "    <tr style=\"text-align: right;\">\n",
              "      <th></th>\n",
              "      <th>User ID</th>\n",
              "      <th>Gender</th>\n",
              "      <th>Age</th>\n",
              "      <th>EstimatedSalary</th>\n",
              "      <th>Purchased</th>\n",
              "    </tr>\n",
              "  </thead>\n",
              "  <tbody>\n",
              "    <tr>\n",
              "      <th>0</th>\n",
              "      <td>15624510</td>\n",
              "      <td>Male</td>\n",
              "      <td>19.0</td>\n",
              "      <td>19000.0</td>\n",
              "      <td>0</td>\n",
              "    </tr>\n",
              "    <tr>\n",
              "      <th>1</th>\n",
              "      <td>15810944</td>\n",
              "      <td>Male</td>\n",
              "      <td>35.0</td>\n",
              "      <td>20000.0</td>\n",
              "      <td>0</td>\n",
              "    </tr>\n",
              "    <tr>\n",
              "      <th>2</th>\n",
              "      <td>15668575</td>\n",
              "      <td>Female</td>\n",
              "      <td>26.0</td>\n",
              "      <td>43000.0</td>\n",
              "      <td>0</td>\n",
              "    </tr>\n",
              "    <tr>\n",
              "      <th>3</th>\n",
              "      <td>15603246</td>\n",
              "      <td>Female</td>\n",
              "      <td>27.0</td>\n",
              "      <td>57000.0</td>\n",
              "      <td>0</td>\n",
              "    </tr>\n",
              "    <tr>\n",
              "      <th>4</th>\n",
              "      <td>15804002</td>\n",
              "      <td>Male</td>\n",
              "      <td>19.0</td>\n",
              "      <td>76000.0</td>\n",
              "      <td>0</td>\n",
              "    </tr>\n",
              "    <tr>\n",
              "      <th>...</th>\n",
              "      <td>...</td>\n",
              "      <td>...</td>\n",
              "      <td>...</td>\n",
              "      <td>...</td>\n",
              "      <td>...</td>\n",
              "    </tr>\n",
              "    <tr>\n",
              "      <th>395</th>\n",
              "      <td>15691863</td>\n",
              "      <td>Female</td>\n",
              "      <td>46.0</td>\n",
              "      <td>41000.0</td>\n",
              "      <td>1</td>\n",
              "    </tr>\n",
              "    <tr>\n",
              "      <th>396</th>\n",
              "      <td>15706071</td>\n",
              "      <td>Male</td>\n",
              "      <td>51.0</td>\n",
              "      <td>23000.0</td>\n",
              "      <td>1</td>\n",
              "    </tr>\n",
              "    <tr>\n",
              "      <th>397</th>\n",
              "      <td>15654296</td>\n",
              "      <td>Female</td>\n",
              "      <td>50.0</td>\n",
              "      <td>20000.0</td>\n",
              "      <td>1</td>\n",
              "    </tr>\n",
              "    <tr>\n",
              "      <th>398</th>\n",
              "      <td>15755018</td>\n",
              "      <td>Male</td>\n",
              "      <td>36.0</td>\n",
              "      <td>33000.0</td>\n",
              "      <td>0</td>\n",
              "    </tr>\n",
              "    <tr>\n",
              "      <th>399</th>\n",
              "      <td>15594041</td>\n",
              "      <td>Female</td>\n",
              "      <td>49.0</td>\n",
              "      <td>36000.0</td>\n",
              "      <td>1</td>\n",
              "    </tr>\n",
              "  </tbody>\n",
              "</table>\n",
              "<p>400 rows × 5 columns</p>\n",
              "</div>\n",
              "      <button class=\"colab-df-convert\" onclick=\"convertToInteractive('df-c60b0797-4300-4f9d-ab56-9ada465fb96e')\"\n",
              "              title=\"Convert this dataframe to an interactive table.\"\n",
              "              style=\"display:none;\">\n",
              "        \n",
              "  <svg xmlns=\"http://www.w3.org/2000/svg\" height=\"24px\"viewBox=\"0 0 24 24\"\n",
              "       width=\"24px\">\n",
              "    <path d=\"M0 0h24v24H0V0z\" fill=\"none\"/>\n",
              "    <path d=\"M18.56 5.44l.94 2.06.94-2.06 2.06-.94-2.06-.94-.94-2.06-.94 2.06-2.06.94zm-11 1L8.5 8.5l.94-2.06 2.06-.94-2.06-.94L8.5 2.5l-.94 2.06-2.06.94zm10 10l.94 2.06.94-2.06 2.06-.94-2.06-.94-.94-2.06-.94 2.06-2.06.94z\"/><path d=\"M17.41 7.96l-1.37-1.37c-.4-.4-.92-.59-1.43-.59-.52 0-1.04.2-1.43.59L10.3 9.45l-7.72 7.72c-.78.78-.78 2.05 0 2.83L4 21.41c.39.39.9.59 1.41.59.51 0 1.02-.2 1.41-.59l7.78-7.78 2.81-2.81c.8-.78.8-2.07 0-2.86zM5.41 20L4 18.59l7.72-7.72 1.47 1.35L5.41 20z\"/>\n",
              "  </svg>\n",
              "      </button>\n",
              "      \n",
              "  <style>\n",
              "    .colab-df-container {\n",
              "      display:flex;\n",
              "      flex-wrap:wrap;\n",
              "      gap: 12px;\n",
              "    }\n",
              "\n",
              "    .colab-df-convert {\n",
              "      background-color: #E8F0FE;\n",
              "      border: none;\n",
              "      border-radius: 50%;\n",
              "      cursor: pointer;\n",
              "      display: none;\n",
              "      fill: #1967D2;\n",
              "      height: 32px;\n",
              "      padding: 0 0 0 0;\n",
              "      width: 32px;\n",
              "    }\n",
              "\n",
              "    .colab-df-convert:hover {\n",
              "      background-color: #E2EBFA;\n",
              "      box-shadow: 0px 1px 2px rgba(60, 64, 67, 0.3), 0px 1px 3px 1px rgba(60, 64, 67, 0.15);\n",
              "      fill: #174EA6;\n",
              "    }\n",
              "\n",
              "    [theme=dark] .colab-df-convert {\n",
              "      background-color: #3B4455;\n",
              "      fill: #D2E3FC;\n",
              "    }\n",
              "\n",
              "    [theme=dark] .colab-df-convert:hover {\n",
              "      background-color: #434B5C;\n",
              "      box-shadow: 0px 1px 3px 1px rgba(0, 0, 0, 0.15);\n",
              "      filter: drop-shadow(0px 1px 2px rgba(0, 0, 0, 0.3));\n",
              "      fill: #FFFFFF;\n",
              "    }\n",
              "  </style>\n",
              "\n",
              "      <script>\n",
              "        const buttonEl =\n",
              "          document.querySelector('#df-c60b0797-4300-4f9d-ab56-9ada465fb96e button.colab-df-convert');\n",
              "        buttonEl.style.display =\n",
              "          google.colab.kernel.accessAllowed ? 'block' : 'none';\n",
              "\n",
              "        async function convertToInteractive(key) {\n",
              "          const element = document.querySelector('#df-c60b0797-4300-4f9d-ab56-9ada465fb96e');\n",
              "          const dataTable =\n",
              "            await google.colab.kernel.invokeFunction('convertToInteractive',\n",
              "                                                     [key], {});\n",
              "          if (!dataTable) return;\n",
              "\n",
              "          const docLinkHtml = 'Like what you see? Visit the ' +\n",
              "            '<a target=\"_blank\" href=https://colab.research.google.com/notebooks/data_table.ipynb>data table notebook</a>'\n",
              "            + ' to learn more about interactive tables.';\n",
              "          element.innerHTML = '';\n",
              "          dataTable['output_type'] = 'display_data';\n",
              "          await google.colab.output.renderOutput(dataTable, element);\n",
              "          const docLink = document.createElement('div');\n",
              "          docLink.innerHTML = docLinkHtml;\n",
              "          element.appendChild(docLink);\n",
              "        }\n",
              "      </script>\n",
              "    </div>\n",
              "  </div>\n",
              "  "
            ]
          },
          "metadata": {},
          "execution_count": 28
        }
      ]
    },
    {
      "cell_type": "code",
      "source": [
        "file.dtypes"
      ],
      "metadata": {
        "colab": {
          "base_uri": "https://localhost:8080/"
        },
        "id": "Ox9apa5JiDE5",
        "outputId": "cd74bc6a-7cac-4c9d-fc9e-71486f2890fd"
      },
      "execution_count": null,
      "outputs": [
        {
          "output_type": "execute_result",
          "data": {
            "text/plain": [
              "User ID              int64\n",
              "Gender              object\n",
              "Age                float64\n",
              "EstimatedSalary    float64\n",
              "Purchased            int64\n",
              "dtype: object"
            ]
          },
          "metadata": {},
          "execution_count": 29
        }
      ]
    },
    {
      "cell_type": "code",
      "source": [
        "file.corr().style.background_gradient(cmap='summer')"
      ],
      "metadata": {
        "colab": {
          "base_uri": "https://localhost:8080/",
          "height": 175
        },
        "id": "4Q1_TYpulLAj",
        "outputId": "e7a77fc8-443d-468b-885f-549cc7af7de5"
      },
      "execution_count": null,
      "outputs": [
        {
          "output_type": "execute_result",
          "data": {
            "text/plain": [
              "<pandas.io.formats.style.Styler at 0x7ff932cb18d0>"
            ],
            "text/html": [
              "<style type=\"text/css\">\n",
              "#T_ed120_row0_col0, #T_ed120_row1_col1, #T_ed120_row2_col2, #T_ed120_row3_col3 {\n",
              "  background-color: #ffff66;\n",
              "  color: #000000;\n",
              "}\n",
              "#T_ed120_row0_col1, #T_ed120_row0_col2, #T_ed120_row0_col3, #T_ed120_row1_col0 {\n",
              "  background-color: #008066;\n",
              "  color: #f1f1f1;\n",
              "}\n",
              "#T_ed120_row1_col2 {\n",
              "  background-color: #178b66;\n",
              "  color: #f1f1f1;\n",
              "}\n",
              "#T_ed120_row1_col3 {\n",
              "  background-color: #9ece66;\n",
              "  color: #000000;\n",
              "}\n",
              "#T_ed120_row2_col0 {\n",
              "  background-color: #128866;\n",
              "  color: #f1f1f1;\n",
              "}\n",
              "#T_ed120_row2_col1 {\n",
              "  background-color: #279366;\n",
              "  color: #f1f1f1;\n",
              "}\n",
              "#T_ed120_row2_col3 {\n",
              "  background-color: #5bad66;\n",
              "  color: #f1f1f1;\n",
              "}\n",
              "#T_ed120_row3_col0 {\n",
              "  background-color: #028066;\n",
              "  color: #f1f1f1;\n",
              "}\n",
              "#T_ed120_row3_col1 {\n",
              "  background-color: #9fcf66;\n",
              "  color: #000000;\n",
              "}\n",
              "#T_ed120_row3_col2 {\n",
              "  background-color: #50a866;\n",
              "  color: #f1f1f1;\n",
              "}\n",
              "</style>\n",
              "<table id=\"T_ed120_\" class=\"dataframe\">\n",
              "  <thead>\n",
              "    <tr>\n",
              "      <th class=\"blank level0\" >&nbsp;</th>\n",
              "      <th class=\"col_heading level0 col0\" >User ID</th>\n",
              "      <th class=\"col_heading level0 col1\" >Age</th>\n",
              "      <th class=\"col_heading level0 col2\" >EstimatedSalary</th>\n",
              "      <th class=\"col_heading level0 col3\" >Purchased</th>\n",
              "    </tr>\n",
              "  </thead>\n",
              "  <tbody>\n",
              "    <tr>\n",
              "      <th id=\"T_ed120_level0_row0\" class=\"row_heading level0 row0\" >User ID</th>\n",
              "      <td id=\"T_ed120_row0_col0\" class=\"data row0 col0\" >1.000000</td>\n",
              "      <td id=\"T_ed120_row0_col1\" class=\"data row0 col1\" >-0.000721</td>\n",
              "      <td id=\"T_ed120_row0_col2\" class=\"data row0 col2\" >0.071097</td>\n",
              "      <td id=\"T_ed120_row0_col3\" class=\"data row0 col3\" >0.007120</td>\n",
              "    </tr>\n",
              "    <tr>\n",
              "      <th id=\"T_ed120_level0_row1\" class=\"row_heading level0 row1\" >Age</th>\n",
              "      <td id=\"T_ed120_row1_col0\" class=\"data row1 col0\" >-0.000721</td>\n",
              "      <td id=\"T_ed120_row1_col1\" class=\"data row1 col1\" >1.000000</td>\n",
              "      <td id=\"T_ed120_row1_col2\" class=\"data row1 col2\" >0.155238</td>\n",
              "      <td id=\"T_ed120_row1_col3\" class=\"data row1 col3\" >0.622454</td>\n",
              "    </tr>\n",
              "    <tr>\n",
              "      <th id=\"T_ed120_level0_row2\" class=\"row_heading level0 row2\" >EstimatedSalary</th>\n",
              "      <td id=\"T_ed120_row2_col0\" class=\"data row2 col0\" >0.071097</td>\n",
              "      <td id=\"T_ed120_row2_col1\" class=\"data row2 col1\" >0.155238</td>\n",
              "      <td id=\"T_ed120_row2_col2\" class=\"data row2 col2\" >1.000000</td>\n",
              "      <td id=\"T_ed120_row2_col3\" class=\"data row2 col3\" >0.362083</td>\n",
              "    </tr>\n",
              "    <tr>\n",
              "      <th id=\"T_ed120_level0_row3\" class=\"row_heading level0 row3\" >Purchased</th>\n",
              "      <td id=\"T_ed120_row3_col0\" class=\"data row3 col0\" >0.007120</td>\n",
              "      <td id=\"T_ed120_row3_col1\" class=\"data row3 col1\" >0.622454</td>\n",
              "      <td id=\"T_ed120_row3_col2\" class=\"data row3 col2\" >0.362083</td>\n",
              "      <td id=\"T_ed120_row3_col3\" class=\"data row3 col3\" >1.000000</td>\n",
              "    </tr>\n",
              "  </tbody>\n",
              "</table>\n"
            ]
          },
          "metadata": {},
          "execution_count": 30
        }
      ]
    },
    {
      "cell_type": "code",
      "source": [
        "file.isnull().sum()"
      ],
      "metadata": {
        "colab": {
          "base_uri": "https://localhost:8080/"
        },
        "id": "0SRpGmQ6iNtw",
        "outputId": "3fa4805f-416a-475f-9e2d-7429169fd8cb"
      },
      "execution_count": null,
      "outputs": [
        {
          "output_type": "execute_result",
          "data": {
            "text/plain": [
              "User ID            0\n",
              "Gender             0\n",
              "Age                0\n",
              "EstimatedSalary    0\n",
              "Purchased          0\n",
              "dtype: int64"
            ]
          },
          "metadata": {},
          "execution_count": 31
        }
      ]
    },
    {
      "cell_type": "code",
      "source": [
        "import matplotlib.pyplot as plt\n"
      ],
      "metadata": {
        "id": "cOBuaDNUiT-U"
      },
      "execution_count": null,
      "outputs": []
    },
    {
      "cell_type": "code",
      "source": [
        "plt.hist(file.Age)"
      ],
      "metadata": {
        "colab": {
          "base_uri": "https://localhost:8080/",
          "height": 321
        },
        "id": "lKflLyzriz5W",
        "outputId": "7dcb887d-f74d-4aeb-f81b-cda964f43e46"
      },
      "execution_count": null,
      "outputs": [
        {
          "output_type": "execute_result",
          "data": {
            "text/plain": [
              "(array([28., 37., 46., 35., 77., 65., 35., 31., 18., 28.]),\n",
              " array([18. , 22.2, 26.4, 30.6, 34.8, 39. , 43.2, 47.4, 51.6, 55.8, 60. ]),\n",
              " <a list of 10 Patch objects>)"
            ]
          },
          "metadata": {},
          "execution_count": 33
        },
        {
          "output_type": "display_data",
          "data": {
            "text/plain": [
              "<Figure size 432x288 with 1 Axes>"
            ],
            "image/png": "[encoded data removed]"
          },
          "metadata": {
            "needs_background": "light"
          }
        }
      ]
    },
    {
      "cell_type": "code",
      "source": [
        ""
      ],
      "metadata": {
        "id": "0-WvKaXzefSe"
      },
      "execution_count": null,
      "outputs": []
    },
    {
      "cell_type": "code",
      "source": [
        "from sklearn.model_selection import train_test_split\n",
        "x_train,x_test,y_train,y_test = train_test_split(x,y, test_size=0.25,random_state=20)\n",
        "print(x_train,x_test,y_train,y_test)"
      ],
      "metadata": {
        "colab": {
          "base_uri": "https://localhost:8080/"
        },
        "id": "xaPRReZQsp0P",
        "outputId": "650afaf6-4fa1-438c-ee0e-809ad8bf82ab"
      },
      "execution_count": null,
      "outputs": [
        {
          "output_type": "stream",
          "name": "stdout",
          "text": [
            "      User ID  Purchased\n",
            "328  15796351          1\n",
            "283  15663249          1\n",
            "53   15671655          0\n",
            "148  15779862          0\n",
            "16   15733883          1\n",
            "..        ...        ...\n",
            "393  15635893          1\n",
            "218  15666675          0\n",
            "223  15593715          1\n",
            "271  15688172          1\n",
            "355  15606472          1\n",
            "\n",
            "[300 rows x 2 columns]       User ID  Purchased\n",
            "10   15570769          0\n",
            "382  15715622          1\n",
            "374  15793890          0\n",
            "196  15738448          0\n",
            "47   15776348          0\n",
            "..        ...        ...\n",
            "197  15680243          0\n",
            "315  15594762          1\n",
            "312  15733964          0\n",
            "30   15581198          0\n",
            "195  15667742          0\n",
            "\n",
            "[100 rows x 2 columns] 328    1\n",
            "283    1\n",
            "53     0\n",
            "148    0\n",
            "16     1\n",
            "      ..\n",
            "393    1\n",
            "218    0\n",
            "223    1\n",
            "271    1\n",
            "355    1\n",
            "Name: Purchased, Length: 300, dtype: int64 10     0\n",
            "382    1\n",
            "374    0\n",
            "196    0\n",
            "47     0\n",
            "      ..\n",
            "197    0\n",
            "315    1\n",
            "312    0\n",
            "30     0\n",
            "195    0\n",
            "Name: Purchased, Length: 100, dtype: int64\n"
          ]
        }
      ]
    },
    {
      "cell_type": "code",
      "source": [
        "file.tail()"
      ],
      "metadata": {
        "colab": {
          "base_uri": "https://localhost:8080/",
          "height": 206
        },
        "id": "m8kSDFYMs0bF",
        "outputId": "cc0a1314-97dc-44a5-e6da-cdc1197621ca"
      },
      "execution_count": null,
      "outputs": [
        {
          "output_type": "execute_result",
          "data": {
            "text/plain": [
              "      User ID  Gender   Age  EstimatedSalary  Purchased\n",
              "395  15691863  Female  46.0          41000.0          1\n",
              "396  15706071    Male  51.0          23000.0          1\n",
              "397  15654296  Female  50.0          20000.0          1\n",
              "398  15755018    Male  36.0          33000.0          0\n",
              "399  15594041  Female  49.0          36000.0          1"
            ],
            "text/html": [
              "\n",
              "  <div id=\"df-cd78c499-4e93-4cb5-bfaf-4f9cbb9dc81c\">\n",
              "    <div class=\"colab-df-container\">\n",
              "      <div>\n",
              "<style scoped>\n",
              "    .dataframe tbody tr th:only-of-type {\n",
              "        vertical-align: middle;\n",
              "    }\n",
              "\n",
              "    .dataframe tbody tr th {\n",
              "        vertical-align: top;\n",
              "    }\n",
              "\n",
              "    .dataframe thead th {\n",
              "        text-align: right;\n",
              "    }\n",
              "</style>\n",
              "<table border=\"1\" class=\"dataframe\">\n",
              "  <thead>\n",
              "    <tr style=\"text-align: right;\">\n",
              "      <th></th>\n",
              "      <th>User ID</th>\n",
              "      <th>Gender</th>\n",
              "      <th>Age</th>\n",
              "      <th>EstimatedSalary</th>\n",
              "      <th>Purchased</th>\n",
              "    </tr>\n",
              "  </thead>\n",
              "  <tbody>\n",
              "    <tr>\n",
              "      <th>395</th>\n",
              "      <td>15691863</td>\n",
              "      <td>Female</td>\n",
              "      <td>46.0</td>\n",
              "      <td>41000.0</td>\n",
              "      <td>1</td>\n",
              "    </tr>\n",
              "    <tr>\n",
              "      <th>396</th>\n",
              "      <td>15706071</td>\n",
              "      <td>Male</td>\n",
              "      <td>51.0</td>\n",
              "      <td>23000.0</td>\n",
              "      <td>1</td>\n",
              "    </tr>\n",
              "    <tr>\n",
              "      <th>397</th>\n",
              "      <td>15654296</td>\n",
              "      <td>Female</td>\n",
              "      <td>50.0</td>\n",
              "      <td>20000.0</td>\n",
              "      <td>1</td>\n",
              "    </tr>\n",
              "    <tr>\n",
              "      <th>398</th>\n",
              "      <td>15755018</td>\n",
              "      <td>Male</td>\n",
              "      <td>36.0</td>\n",
              "      <td>33000.0</td>\n",
              "      <td>0</td>\n",
              "    </tr>\n",
              "    <tr>\n",
              "      <th>399</th>\n",
              "      <td>15594041</td>\n",
              "      <td>Female</td>\n",
              "      <td>49.0</td>\n",
              "      <td>36000.0</td>\n",
              "      <td>1</td>\n",
              "    </tr>\n",
              "  </tbody>\n",
              "</table>\n",
              "</div>\n",
              "      <button class=\"colab-df-convert\" onclick=\"convertToInteractive('df-cd78c499-4e93-4cb5-bfaf-4f9cbb9dc81c')\"\n",
              "              title=\"Convert this dataframe to an interactive table.\"\n",
              "              style=\"display:none;\">\n",
              "        \n",
              "  <svg xmlns=\"http://www.w3.org/2000/svg\" height=\"24px\"viewBox=\"0 0 24 24\"\n",
              "       width=\"24px\">\n",
              "    <path d=\"M0 0h24v24H0V0z\" fill=\"none\"/>\n",
              "    <path d=\"M18.56 5.44l.94 2.06.94-2.06 2.06-.94-2.06-.94-.94-2.06-.94 2.06-2.06.94zm-11 1L8.5 8.5l.94-2.06 2.06-.94-2.06-.94L8.5 2.5l-.94 2.06-2.06.94zm10 10l.94 2.06.94-2.06 2.06-.94-2.06-.94-.94-2.06-.94 2.06-2.06.94z\"/><path d=\"M17.41 7.96l-1.37-1.37c-.4-.4-.92-.59-1.43-.59-.52 0-1.04.2-1.43.59L10.3 9.45l-7.72 7.72c-.78.78-.78 2.05 0 2.83L4 21.41c.39.39.9.59 1.41.59.51 0 1.02-.2 1.41-.59l7.78-7.78 2.81-2.81c.8-.78.8-2.07 0-2.86zM5.41 20L4 18.59l7.72-7.72 1.47 1.35L5.41 20z\"/>\n",
              "  </svg>\n",
              "      </button>\n",
              "      \n",
              "  <style>\n",
              "    .colab-df-container {\n",
              "      display:flex;\n",
              "      flex-wrap:wrap;\n",
              "      gap: 12px;\n",
              "    }\n",
              "\n",
              "    .colab-df-convert {\n",
              "      background-color: #E8F0FE;\n",
              "      border: none;\n",
              "      border-radius: 50%;\n",
              "      cursor: pointer;\n",
              "      display: none;\n",
              "      fill: #1967D2;\n",
              "      height: 32px;\n",
              "      padding: 0 0 0 0;\n",
              "      width: 32px;\n",
              "    }\n",
              "\n",
              "    .colab-df-convert:hover {\n",
              "      background-color: #E2EBFA;\n",
              "      box-shadow: 0px 1px 2px rgba(60, 64, 67, 0.3), 0px 1px 3px 1px rgba(60, 64, 67, 0.15);\n",
              "      fill: #174EA6;\n",
              "    }\n",
              "\n",
              "    [theme=dark] .colab-df-convert {\n",
              "      background-color: #3B4455;\n",
              "      fill: #D2E3FC;\n",
              "    }\n",
              "\n",
              "    [theme=dark] .colab-df-convert:hover {\n",
              "      background-color: #434B5C;\n",
              "      box-shadow: 0px 1px 3px 1px rgba(0, 0, 0, 0.15);\n",
              "      filter: drop-shadow(0px 1px 2px rgba(0, 0, 0, 0.3));\n",
              "      fill: #FFFFFF;\n",
              "    }\n",
              "  </style>\n",
              "\n",
              "      <script>\n",
              "        const buttonEl =\n",
              "          document.querySelector('#df-cd78c499-4e93-4cb5-bfaf-4f9cbb9dc81c button.colab-df-convert');\n",
              "        buttonEl.style.display =\n",
              "          google.colab.kernel.accessAllowed ? 'block' : 'none';\n",
              "\n",
              "        async function convertToInteractive(key) {\n",
              "          const element = document.querySelector('#df-cd78c499-4e93-4cb5-bfaf-4f9cbb9dc81c');\n",
              "          const dataTable =\n",
              "            await google.colab.kernel.invokeFunction('convertToInteractive',\n",
              "                                                     [key], {});\n",
              "          if (!dataTable) return;\n",
              "\n",
              "          const docLinkHtml = 'Like what you see? Visit the ' +\n",
              "            '<a target=\"_blank\" href=https://colab.research.google.com/notebooks/data_table.ipynb>data table notebook</a>'\n",
              "            + ' to learn more about interactive tables.';\n",
              "          element.innerHTML = '';\n",
              "          dataTable['output_type'] = 'display_data';\n",
              "          await google.colab.output.renderOutput(dataTable, element);\n",
              "          const docLink = document.createElement('div');\n",
              "          docLink.innerHTML = docLinkHtml;\n",
              "          element.appendChild(docLink);\n",
              "        }\n",
              "      </script>\n",
              "    </div>\n",
              "  </div>\n",
              "  "
            ]
          },
          "metadata": {},
          "execution_count": 44
        }
      ]
    },
    {
      "cell_type": "code",
      "source": [
        "file.describe()"
      ],
      "metadata": {
        "id": "4TBjtQfQs-Kp",
        "outputId": "5fbacbbd-895e-4e20-de99-8db8df70b8f0",
        "colab": {
          "base_uri": "https://localhost:8080/",
          "height": 300
        }
      },
      "execution_count": null,
      "outputs": [
        {
          "output_type": "execute_result",
          "data": {
            "text/plain": [
              "            User ID         Age  EstimatedSalary   Purchased\n",
              "count  4.000000e+02  400.000000       400.000000  400.000000\n",
              "mean   1.569154e+07   37.655000     69742.500000    0.357500\n",
              "std    7.165832e+04   10.482877     34096.960282    0.479864\n",
              "min    1.556669e+07   18.000000     15000.000000    0.000000\n",
              "25%    1.562676e+07   29.750000     43000.000000    0.000000\n",
              "50%    1.569434e+07   37.000000     70000.000000    0.000000\n",
              "75%    1.575036e+07   46.000000     88000.000000    1.000000\n",
              "max    1.581524e+07   60.000000    150000.000000    1.000000"
            ],
            "text/html": [
              "\n",
              "  <div id=\"df-7bdd7e0f-a11d-49d5-bd2b-075b7074e93e\">\n",
              "    <div class=\"colab-df-container\">\n",
              "      <div>\n",
              "<style scoped>\n",
              "    .dataframe tbody tr th:only-of-type {\n",
              "        vertical-align: middle;\n",
              "    }\n",
              "\n",
              "    .dataframe tbody tr th {\n",
              "        vertical-align: top;\n",
              "    }\n",
              "\n",
              "    .dataframe thead th {\n",
              "        text-align: right;\n",
              "    }\n",
              "</style>\n",
              "<table border=\"1\" class=\"dataframe\">\n",
              "  <thead>\n",
              "    <tr style=\"text-align: right;\">\n",
              "      <th></th>\n",
              "      <th>User ID</th>\n",
              "      <th>Age</th>\n",
              "      <th>EstimatedSalary</th>\n",
              "      <th>Purchased</th>\n",
              "    </tr>\n",
              "  </thead>\n",
              "  <tbody>\n",
              "    <tr>\n",
              "      <th>count</th>\n",
              "      <td>4.000000e+02</td>\n",
              "      <td>400.000000</td>\n",
              "      <td>400.000000</td>\n",
              "      <td>400.000000</td>\n",
              "    </tr>\n",
              "    <tr>\n",
              "      <th>mean</th>\n",
              "      <td>1.569154e+07</td>\n",
              "      <td>37.655000</td>\n",
              "      <td>69742.500000</td>\n",
              "      <td>0.357500</td>\n",
              "    </tr>\n",
              "    <tr>\n",
              "      <th>std</th>\n",
              "      <td>7.165832e+04</td>\n",
              "      <td>10.482877</td>\n",
              "      <td>34096.960282</td>\n",
              "      <td>0.479864</td>\n",
              "    </tr>\n",
              "    <tr>\n",
              "      <th>min</th>\n",
              "      <td>1.556669e+07</td>\n",
              "      <td>18.000000</td>\n",
              "      <td>15000.000000</td>\n",
              "      <td>0.000000</td>\n",
              "    </tr>\n",
              "    <tr>\n",
              "      <th>25%</th>\n",
              "      <td>1.562676e+07</td>\n",
              "      <td>29.750000</td>\n",
              "      <td>43000.000000</td>\n",
              "      <td>0.000000</td>\n",
              "    </tr>\n",
              "    <tr>\n",
              "      <th>50%</th>\n",
              "      <td>1.569434e+07</td>\n",
              "      <td>37.000000</td>\n",
              "      <td>70000.000000</td>\n",
              "      <td>0.000000</td>\n",
              "    </tr>\n",
              "    <tr>\n",
              "      <th>75%</th>\n",
              "      <td>1.575036e+07</td>\n",
              "      <td>46.000000</td>\n",
              "      <td>88000.000000</td>\n",
              "      <td>1.000000</td>\n",
              "    </tr>\n",
              "    <tr>\n",
              "      <th>max</th>\n",
              "      <td>1.581524e+07</td>\n",
              "      <td>60.000000</td>\n",
              "      <td>150000.000000</td>\n",
              "      <td>1.000000</td>\n",
              "    </tr>\n",
              "  </tbody>\n",
              "</table>\n",
              "</div>\n",
              "      <button class=\"colab-df-convert\" onclick=\"convertToInteractive('df-7bdd7e0f-a11d-49d5-bd2b-075b7074e93e')\"\n",
              "              title=\"Convert this dataframe to an interactive table.\"\n",
              "              style=\"display:none;\">\n",
              "        \n",
              "  <svg xmlns=\"http://www.w3.org/2000/svg\" height=\"24px\"viewBox=\"0 0 24 24\"\n",
              "       width=\"24px\">\n",
              "    <path d=\"M0 0h24v24H0V0z\" fill=\"none\"/>\n",
              "    <path d=\"M18.56 5.44l.94 2.06.94-2.06 2.06-.94-2.06-.94-.94-2.06-.94 2.06-2.06.94zm-11 1L8.5 8.5l.94-2.06 2.06-.94-2.06-.94L8.5 2.5l-.94 2.06-2.06.94zm10 10l.94 2.06.94-2.06 2.06-.94-2.06-.94-.94-2.06-.94 2.06-2.06.94z\"/><path d=\"M17.41 7.96l-1.37-1.37c-.4-.4-.92-.59-1.43-.59-.52 0-1.04.2-1.43.59L10.3 9.45l-7.72 7.72c-.78.78-.78 2.05 0 2.83L4 21.41c.39.39.9.59 1.41.59.51 0 1.02-.2 1.41-.59l7.78-7.78 2.81-2.81c.8-.78.8-2.07 0-2.86zM5.41 20L4 18.59l7.72-7.72 1.47 1.35L5.41 20z\"/>\n",
              "  </svg>\n",
              "      </button>\n",
              "      \n",
              "  <style>\n",
              "    .colab-df-container {\n",
              "      display:flex;\n",
              "      flex-wrap:wrap;\n",
              "      gap: 12px;\n",
              "    }\n",
              "\n",
              "    .colab-df-convert {\n",
              "      background-color: #E8F0FE;\n",
              "      border: none;\n",
              "      border-radius: 50%;\n",
              "      cursor: pointer;\n",
              "      display: none;\n",
              "      fill: #1967D2;\n",
              "      height: 32px;\n",
              "      padding: 0 0 0 0;\n",
              "      width: 32px;\n",
              "    }\n",
              "\n",
              "    .colab-df-convert:hover {\n",
              "      background-color: #E2EBFA;\n",
              "      box-shadow: 0px 1px 2px rgba(60, 64, 67, 0.3), 0px 1px 3px 1px rgba(60, 64, 67, 0.15);\n",
              "      fill: #174EA6;\n",
              "    }\n",
              "\n",
              "    [theme=dark] .colab-df-convert {\n",
              "      background-color: #3B4455;\n",
              "      fill: #D2E3FC;\n",
              "    }\n",
              "\n",
              "    [theme=dark] .colab-df-convert:hover {\n",
              "      background-color: #434B5C;\n",
              "      box-shadow: 0px 1px 3px 1px rgba(0, 0, 0, 0.15);\n",
              "      filter: drop-shadow(0px 1px 2px rgba(0, 0, 0, 0.3));\n",
              "      fill: #FFFFFF;\n",
              "    }\n",
              "  </style>\n",
              "\n",
              "      <script>\n",
              "        const buttonEl =\n",
              "          document.querySelector('#df-7bdd7e0f-a11d-49d5-bd2b-075b7074e93e button.colab-df-convert');\n",
              "        buttonEl.style.display =\n",
              "          google.colab.kernel.accessAllowed ? 'block' : 'none';\n",
              "\n",
              "        async function convertToInteractive(key) {\n",
              "          const element = document.querySelector('#df-7bdd7e0f-a11d-49d5-bd2b-075b7074e93e');\n",
              "          const dataTable =\n",
              "            await google.colab.kernel.invokeFunction('convertToInteractive',\n",
              "                                                     [key], {});\n",
              "          if (!dataTable) return;\n",
              "\n",
              "          const docLinkHtml = 'Like what you see? Visit the ' +\n",
              "            '<a target=\"_blank\" href=https://colab.research.google.com/notebooks/data_table.ipynb>data table notebook</a>'\n",
              "            + ' to learn more about interactive tables.';\n",
              "          element.innerHTML = '';\n",
              "          dataTable['output_type'] = 'display_data';\n",
              "          await google.colab.output.renderOutput(dataTable, element);\n",
              "          const docLink = document.createElement('div');\n",
              "          docLink.innerHTML = docLinkHtml;\n",
              "          element.appendChild(docLink);\n",
              "        }\n",
              "      </script>\n",
              "    </div>\n",
              "  </div>\n",
              "  "
            ]
          },
          "metadata": {},
          "execution_count": 43
        }
      ]
    },
    {
      "cell_type": "code",
      "source": [
        "file.isnull().sum()"
      ],
      "metadata": {
        "colab": {
          "base_uri": "https://localhost:8080/"
        },
        "id": "BGIaGFBAtQbj",
        "outputId": "9c4123af-28d0-4ea8-dca2-01df5d3aff83"
      },
      "execution_count": null,
      "outputs": [
        {
          "output_type": "execute_result",
          "data": {
            "text/plain": [
              "User ID            0\n",
              "Gender             0\n",
              "Age                0\n",
              "EstimatedSalary    0\n",
              "Purchased          0\n",
              "dtype: int64"
            ]
          },
          "metadata": {},
          "execution_count": 42
        }
      ]
    },
    {
      "cell_type": "code",
      "source": [
        "file.hist(bins=60, figsize=(20,10))\n",
        "plt.show()"
      ],
      "metadata": {
        "colab": {
          "base_uri": "https://localhost:8080/",
          "height": 531
        },
        "id": "J1yAvGGur0ug",
        "outputId": "22c9606d-81e1-4916-a546-9ca4912f5204"
      },
      "execution_count": null,
      "outputs": [
        {
          "output_type": "display_data",
          "data": {
            "text/plain": [
              "<Figure size 1440x720 with 4 Axes>"
            ],
            "image/png": "[encoded data removed]"
          },
          "metadata": {
            "needs_background": "light"
          }
        }
      ]
    },
    {
      "cell_type": "code",
      "source": [
        "corr = file.corr()"
      ],
      "metadata": {
        "id": "WavXkeAlsQc8"
      },
      "execution_count": null,
      "outputs": []
    },
    {
      "cell_type": "code",
      "source": [
        "plt.figure(figsize=(12,10))\n",
        "\n",
        "sns.heatmap(corr,annot=True,cmap='crest')"
      ],
      "metadata": {
        "colab": {
          "base_uri": "https://localhost:8080/",
          "height": 614
        },
        "id": "dMXVzxeKnO6c",
        "outputId": "2e4cc65e-646c-4697-8a3d-2611b3b33ee7"
      },
      "execution_count": null,
      "outputs": [
        {
          "output_type": "execute_result",
          "data": {
            "text/plain": [
              "<matplotlib.axes._subplots.AxesSubplot at 0x7ff9329b1c90>"
            ]
          },
          "metadata": {},
          "execution_count": 40
        },
        {
          "output_type": "display_data",
          "data": {
            "text/plain": [
              "<Figure size 864x720 with 2 Axes>"
            ],
            "image/png": "[encoded data removed]"
          },
          "metadata": {
            "needs_background": "light"
          }
        }
      ]
    },
    {
      "cell_type": "code",
      "source": [
        ""
      ],
      "metadata": {
        "id": "0MkOdd74sOpZ"
      },
      "execution_count": null,
      "outputs": []
    },
    {
      "cell_type": "code",
      "source": [
        "plt.figure(figsize=(12,7))\n",
        "sns.countplot(data=file, x='Gender')"
      ],
      "metadata": {
        "colab": {
          "base_uri": "https://localhost:8080/",
          "height": 460
        },
        "id": "H2VSyjAuneH-",
        "outputId": "08e666dc-8a93-48b8-a354-42371b0178f5"
      },
      "execution_count": null,
      "outputs": [
        {
          "output_type": "execute_result",
          "data": {
            "text/plain": [
              "<matplotlib.axes._subplots.AxesSubplot at 0x7ff932ac1590>"
            ]
          },
          "metadata": {},
          "execution_count": 37
        },
        {
          "output_type": "display_data",
          "data": {
            "text/plain": [
              "<Figure size 864x504 with 1 Axes>"
            ],
            "image/png": "[encoded data removed]"
          },
          "metadata": {
            "needs_background": "light"
          }
        }
      ]
    },
    {
      "cell_type": "code",
      "source": [
        "plt.figure(figsize=(13,8))\n",
        "sns.scatterplot(data=file, x='User ID', y='Age',color='red')"
      ],
      "metadata": {
        "id": "DrJJSflXpKLi",
        "outputId": "b8162265-1e74-499c-8534-728b4716d107",
        "colab": {
          "base_uri": "https://localhost:8080/"
        }
      },
      "execution_count": null,
      "outputs": [
        {
          "output_type": "error",
          "ename": "NameError",
          "evalue": "ignored",
          "traceback": [
            "\u001b[0;31m---------------------------------------------------------------------------\u001b[0m",
            "\u001b[0;31mNameError\u001b[0m                                 Traceback (most recent call last)",
            "\u001b[0;32m<ipython-input-1-c25eee3f252d>\u001b[0m in \u001b[0;36m<module>\u001b[0;34m()\u001b[0m\n\u001b[0;32m----> 1\u001b[0;31m \u001b[0mplt\u001b[0m\u001b[0;34m.\u001b[0m\u001b[0mfigure\u001b[0m\u001b[0;34m(\u001b[0m\u001b[0mfigsize\u001b[0m\u001b[0;34m=\u001b[0m\u001b[0;34m(\u001b[0m\u001b[0;36m13\u001b[0m\u001b[0;34m,\u001b[0m\u001b[0;36m8\u001b[0m\u001b[0;34m)\u001b[0m\u001b[0;34m)\u001b[0m\u001b[0;34m\u001b[0m\u001b[0;34m\u001b[0m\u001b[0m\n\u001b[0m\u001b[1;32m      2\u001b[0m \u001b[0msns\u001b[0m\u001b[0;34m.\u001b[0m\u001b[0mscatterplot\u001b[0m\u001b[0;34m(\u001b[0m\u001b[0mdata\u001b[0m\u001b[0;34m=\u001b[0m\u001b[0mfile\u001b[0m\u001b[0;34m,\u001b[0m \u001b[0mx\u001b[0m\u001b[0;34m=\u001b[0m\u001b[0;34m'User ID'\u001b[0m\u001b[0;34m,\u001b[0m \u001b[0my\u001b[0m\u001b[0;34m=\u001b[0m\u001b[0;34m'Age'\u001b[0m\u001b[0;34m,\u001b[0m\u001b[0mcolor\u001b[0m\u001b[0;34m=\u001b[0m\u001b[0;34m'red'\u001b[0m\u001b[0;34m)\u001b[0m\u001b[0;34m\u001b[0m\u001b[0;34m\u001b[0m\u001b[0m\n",
            "\u001b[0;31mNameError\u001b[0m: name 'plt' is not defined"
          ]
        }
      ]
    },
    {
      "cell_type": "code",
      "source": [
        "plt.figure(figsize=(20,10))\n",
        "sns.lineplot(data=file, x='Age', y='Gender',color='green')"
      ],
      "metadata": {
        "colab": {
          "base_uri": "https://localhost:8080/",
          "height": 531
        },
        "id": "iThmm3Z2q88G",
        "outputId": "a86e370b-5285-4023-8f6e-c1059d391f58"
      },
      "execution_count": null,
      "outputs": [
        {
          "output_type": "execute_result",
          "data": {
            "text/plain": [
              "<matplotlib.axes._subplots.AxesSubplot at 0x7ff92fdcbe10>"
            ]
          },
          "metadata": {},
          "execution_count": 47
        },
        {
          "output_type": "display_data",
          "data": {
            "text/plain": [
              "<Figure size 1440x720 with 1 Axes>"
            ],
            "image/png": "[encoded data removed]"
          },
          "metadata": {
            "needs_background": "light"
          }
        }
      ]
    },
    {
      "cell_type": "code",
      "source": [
        "\n",
        "x=file.drop(columns=['Gender','Age','EstimatedSalary'])\n",
        "x\n"
      ],
      "metadata": {
        "colab": {
          "base_uri": "https://localhost:8080/",
          "height": 423
        },
        "id": "cJxUQWHxrfkQ",
        "outputId": "e966fee1-e9bb-4323-b3da-448a5597e6bd"
      },
      "execution_count": null,
      "outputs": [
        {
          "output_type": "execute_result",
          "data": {
            "text/plain": [
              "      User ID  Purchased\n",
              "0    15624510          0\n",
              "1    15810944          0\n",
              "2    15668575          0\n",
              "3    15603246          0\n",
              "4    15804002          0\n",
              "..        ...        ...\n",
              "395  15691863          1\n",
              "396  15706071          1\n",
              "397  15654296          1\n",
              "398  15755018          0\n",
              "399  15594041          1\n",
              "\n",
              "[400 rows x 2 columns]"
            ],
            "text/html": [
              "\n",
              "  <div id=\"df-18371a47-4bd1-418d-8ade-16d2b8260544\">\n",
              "    <div class=\"colab-df-container\">\n",
              "      <div>\n",
              "<style scoped>\n",
              "    .dataframe tbody tr th:only-of-type {\n",
              "        vertical-align: middle;\n",
              "    }\n",
              "\n",
              "    .dataframe tbody tr th {\n",
              "        vertical-align: top;\n",
              "    }\n",
              "\n",
              "    .dataframe thead th {\n",
              "        text-align: right;\n",
              "    }\n",
              "</style>\n",
              "<table border=\"1\" class=\"dataframe\">\n",
              "  <thead>\n",
              "    <tr style=\"text-align: right;\">\n",
              "      <th></th>\n",
              "      <th>User ID</th>\n",
              "      <th>Purchased</th>\n",
              "    </tr>\n",
              "  </thead>\n",
              "  <tbody>\n",
              "    <tr>\n",
              "      <th>0</th>\n",
              "      <td>15624510</td>\n",
              "      <td>0</td>\n",
              "    </tr>\n",
              "    <tr>\n",
              "      <th>1</th>\n",
              "      <td>15810944</td>\n",
              "      <td>0</td>\n",
              "    </tr>\n",
              "    <tr>\n",
              "      <th>2</th>\n",
              "      <td>15668575</td>\n",
              "      <td>0</td>\n",
              "    </tr>\n",
              "    <tr>\n",
              "      <th>3</th>\n",
              "      <td>15603246</td>\n",
              "      <td>0</td>\n",
              "    </tr>\n",
              "    <tr>\n",
              "      <th>4</th>\n",
              "      <td>15804002</td>\n",
              "      <td>0</td>\n",
              "    </tr>\n",
              "    <tr>\n",
              "      <th>...</th>\n",
              "      <td>...</td>\n",
              "      <td>...</td>\n",
              "    </tr>\n",
              "    <tr>\n",
              "      <th>395</th>\n",
              "      <td>15691863</td>\n",
              "      <td>1</td>\n",
              "    </tr>\n",
              "    <tr>\n",
              "      <th>396</th>\n",
              "      <td>15706071</td>\n",
              "      <td>1</td>\n",
              "    </tr>\n",
              "    <tr>\n",
              "      <th>397</th>\n",
              "      <td>15654296</td>\n",
              "      <td>1</td>\n",
              "    </tr>\n",
              "    <tr>\n",
              "      <th>398</th>\n",
              "      <td>15755018</td>\n",
              "      <td>0</td>\n",
              "    </tr>\n",
              "    <tr>\n",
              "      <th>399</th>\n",
              "      <td>15594041</td>\n",
              "      <td>1</td>\n",
              "    </tr>\n",
              "  </tbody>\n",
              "</table>\n",
              "<p>400 rows × 2 columns</p>\n",
              "</div>\n",
              "      <button class=\"colab-df-convert\" onclick=\"convertToInteractive('df-18371a47-4bd1-418d-8ade-16d2b8260544')\"\n",
              "              title=\"Convert this dataframe to an interactive table.\"\n",
              "              style=\"display:none;\">\n",
              "        \n",
              "  <svg xmlns=\"http://www.w3.org/2000/svg\" height=\"24px\"viewBox=\"0 0 24 24\"\n",
              "       width=\"24px\">\n",
              "    <path d=\"M0 0h24v24H0V0z\" fill=\"none\"/>\n",
              "    <path d=\"M18.56 5.44l.94 2.06.94-2.06 2.06-.94-2.06-.94-.94-2.06-.94 2.06-2.06.94zm-11 1L8.5 8.5l.94-2.06 2.06-.94-2.06-.94L8.5 2.5l-.94 2.06-2.06.94zm10 10l.94 2.06.94-2.06 2.06-.94-2.06-.94-.94-2.06-.94 2.06-2.06.94z\"/><path d=\"M17.41 7.96l-1.37-1.37c-.4-.4-.92-.59-1.43-.59-.52 0-1.04.2-1.43.59L10.3 9.45l-7.72 7.72c-.78.78-.78 2.05 0 2.83L4 21.41c.39.39.9.59 1.41.59.51 0 1.02-.2 1.41-.59l7.78-7.78 2.81-2.81c.8-.78.8-2.07 0-2.86zM5.41 20L4 18.59l7.72-7.72 1.47 1.35L5.41 20z\"/>\n",
              "  </svg>\n",
              "      </button>\n",
              "      \n",
              "  <style>\n",
              "    .colab-df-container {\n",
              "      display:flex;\n",
              "      flex-wrap:wrap;\n",
              "      gap: 12px;\n",
              "    }\n",
              "\n",
              "    .colab-df-convert {\n",
              "      background-color: #E8F0FE;\n",
              "      border: none;\n",
              "      border-radius: 50%;\n",
              "      cursor: pointer;\n",
              "      display: none;\n",
              "      fill: #1967D2;\n",
              "      height: 32px;\n",
              "      padding: 0 0 0 0;\n",
              "      width: 32px;\n",
              "    }\n",
              "\n",
              "    .colab-df-convert:hover {\n",
              "      background-color: #E2EBFA;\n",
              "      box-shadow: 0px 1px 2px rgba(60, 64, 67, 0.3), 0px 1px 3px 1px rgba(60, 64, 67, 0.15);\n",
              "      fill: #174EA6;\n",
              "    }\n",
              "\n",
              "    [theme=dark] .colab-df-convert {\n",
              "      background-color: #3B4455;\n",
              "      fill: #D2E3FC;\n",
              "    }\n",
              "\n",
              "    [theme=dark] .colab-df-convert:hover {\n",
              "      background-color: #434B5C;\n",
              "      box-shadow: 0px 1px 3px 1px rgba(0, 0, 0, 0.15);\n",
              "      filter: drop-shadow(0px 1px 2px rgba(0, 0, 0, 0.3));\n",
              "      fill: #FFFFFF;\n",
              "    }\n",
              "  </style>\n",
              "\n",
              "      <script>\n",
              "        const buttonEl =\n",
              "          document.querySelector('#df-18371a47-4bd1-418d-8ade-16d2b8260544 button.colab-df-convert');\n",
              "        buttonEl.style.display =\n",
              "          google.colab.kernel.accessAllowed ? 'block' : 'none';\n",
              "\n",
              "        async function convertToInteractive(key) {\n",
              "          const element = document.querySelector('#df-18371a47-4bd1-418d-8ade-16d2b8260544');\n",
              "          const dataTable =\n",
              "            await google.colab.kernel.invokeFunction('convertToInteractive',\n",
              "                                                     [key], {});\n",
              "          if (!dataTable) return;\n",
              "\n",
              "          const docLinkHtml = 'Like what you see? Visit the ' +\n",
              "            '<a target=\"_blank\" href=https://colab.research.google.com/notebooks/data_table.ipynb>data table notebook</a>'\n",
              "            + ' to learn more about interactive tables.';\n",
              "          element.innerHTML = '';\n",
              "          dataTable['output_type'] = 'display_data';\n",
              "          await google.colab.output.renderOutput(dataTable, element);\n",
              "          const docLink = document.createElement('div');\n",
              "          docLink.innerHTML = docLinkHtml;\n",
              "          element.appendChild(docLink);\n",
              "        }\n",
              "      </script>\n",
              "    </div>\n",
              "  </div>\n",
              "  "
            ]
          },
          "metadata": {},
          "execution_count": 36
        }
      ]
    },
    {
      "cell_type": "code",
      "source": [
        "y=file.Purchased\n",
        "y"
      ],
      "metadata": {
        "colab": {
          "base_uri": "https://localhost:8080/"
        },
        "id": "DBLHXWLVrp66",
        "outputId": "b3745c35-1106-437d-a3f6-3de3d03219e1"
      },
      "execution_count": null,
      "outputs": [
        {
          "output_type": "execute_result",
          "data": {
            "text/plain": [
              "0      0\n",
              "1      0\n",
              "2      0\n",
              "3      0\n",
              "4      0\n",
              "      ..\n",
              "395    1\n",
              "396    1\n",
              "397    1\n",
              "398    0\n",
              "399    1\n",
              "Name: Purchased, Length: 400, dtype: int64"
            ]
          },
          "metadata": {},
          "execution_count": 35
        }
      ]
    },
    {
      "cell_type": "code",
      "source": [
        "from sklearn.preprocessing import LabelEncoder\n",
        "model = LabelEncoder()\n",
        "label = model.fit_transform(file['Purchased'])\n",
        "label\n",
        " "
      ],
      "metadata": {
        "colab": {
          "base_uri": "https://localhost:8080/"
        },
        "id": "JMW08Ufdjl3i",
        "outputId": "7b367f39-e89a-4294-cccf-895523245040"
      },
      "execution_count": null,
      "outputs": [
        {
          "output_type": "execute_result",
          "data": {
            "text/plain": [
              "array([0, 0, 0, 0, 0, 0, 0, 1, 0, 0, 0, 0, 0, 0, 0, 0, 1, 1, 1, 1, 1, 1,\n",
              "       1, 1, 1, 1, 1, 1, 0, 0, 0, 1, 0, 0, 0, 0, 0, 0, 0, 0, 0, 0, 0, 0,\n",
              "       0, 0, 0, 0, 1, 0, 0, 0, 0, 0, 0, 0, 0, 0, 0, 0, 0, 0, 0, 1, 0, 0,\n",
              "       0, 0, 0, 0, 0, 0, 0, 0, 0, 1, 0, 0, 0, 0, 0, 0, 0, 0, 0, 1, 0, 0,\n",
              "       0, 0, 0, 0, 0, 0, 0, 0, 0, 1, 0, 0, 0, 0, 0, 1, 0, 0, 0, 0, 0, 0,\n",
              "       0, 0, 0, 0, 0, 0, 0, 0, 0, 0, 0, 0, 0, 0, 0, 0, 0, 0, 0, 0, 0, 0,\n",
              "       0, 0, 0, 0, 0, 1, 0, 0, 0, 0, 0, 0, 0, 0, 1, 0, 0, 0, 0, 0, 0, 0,\n",
              "       0, 0, 0, 0, 0, 1, 1, 0, 0, 0, 0, 0, 0, 0, 1, 0, 0, 0, 0, 0, 0, 0,\n",
              "       0, 0, 0, 0, 0, 0, 1, 0, 0, 0, 0, 0, 0, 0, 0, 0, 0, 0, 0, 0, 0, 0,\n",
              "       0, 0, 0, 0, 1, 0, 1, 0, 1, 0, 1, 0, 1, 1, 0, 0, 0, 1, 0, 0, 0, 1,\n",
              "       0, 1, 1, 1, 0, 0, 1, 1, 0, 1, 1, 0, 1, 1, 0, 1, 0, 0, 0, 1, 1, 0,\n",
              "       1, 1, 0, 1, 0, 1, 0, 1, 0, 0, 1, 1, 0, 1, 0, 0, 1, 1, 0, 1, 1, 0,\n",
              "       1, 1, 0, 0, 1, 0, 0, 1, 1, 1, 1, 1, 0, 1, 1, 1, 1, 0, 1, 1, 0, 1,\n",
              "       0, 1, 0, 1, 1, 1, 1, 0, 0, 0, 1, 1, 0, 1, 1, 1, 1, 1, 0, 0, 0, 1,\n",
              "       1, 0, 0, 1, 0, 1, 0, 1, 1, 0, 1, 0, 1, 1, 0, 1, 1, 0, 0, 0, 1, 1,\n",
              "       0, 1, 0, 0, 1, 0, 1, 0, 0, 1, 1, 0, 0, 1, 1, 0, 1, 1, 0, 0, 1, 0,\n",
              "       1, 0, 1, 1, 1, 0, 1, 0, 1, 1, 1, 0, 1, 1, 1, 1, 0, 1, 1, 1, 0, 1,\n",
              "       0, 1, 0, 0, 1, 1, 0, 1, 1, 1, 1, 1, 1, 0, 1, 1, 1, 1, 1, 1, 0, 1,\n",
              "       1, 1, 0, 1])"
            ]
          },
          "metadata": {},
          "execution_count": 48
        }
      ]
    },
    {
      "cell_type": "markdown",
      "source": [
        "                                             BAGGING CLASSIFIER"
      ],
      "metadata": {
        "id": "OfZIVrmQ9u0R"
      }
    },
    {
      "cell_type": "code",
      "source": [
        "from sklearn.ensemble import BaggingClassifier\n",
        "from sklearn.tree import DecisionTreeClassifier\n",
        "\n"
      ],
      "metadata": {
        "id": "YJ454F-anFmf"
      },
      "execution_count": null,
      "outputs": []
    },
    {
      "cell_type": "code",
      "source": [
        "bag_clas= BaggingClassifier(\n",
        "      DecisionTreeClassifier(class_weight='balanced'),\n",
        "    max_samples=0.10, max_features=0.15,random_state=3)\n",
        "\n"
      ],
      "metadata": {
        "id": "qiKFlM1BueHE"
      },
      "execution_count": null,
      "outputs": []
    },
    {
      "cell_type": "code",
      "source": [
        "bag_clas.fit(x_train, y_train)"
      ],
      "metadata": {
        "colab": {
          "base_uri": "https://localhost:8080/"
        },
        "id": "cLl_fDzwu1hW",
        "outputId": "1e9901b5-6e5c-472c-bcc0-f8bda615efa0"
      },
      "execution_count": null,
      "outputs": [
        {
          "output_type": "execute_result",
          "data": {
            "text/plain": [
              "BaggingClassifier(base_estimator=DecisionTreeClassifier(class_weight='balanced'),\n",
              "                  max_features=0.15, max_samples=0.1, random_state=3)"
            ]
          },
          "metadata": {},
          "execution_count": 51
        }
      ]
    },
    {
      "cell_type": "code",
      "source": [
        "ypred=bag_clas.predict(x_test)\n",
        "bag_clas.predict_proba(x_test)\n"
      ],
      "metadata": {
        "colab": {
          "base_uri": "https://localhost:8080/"
        },
        "id": "3zDy8hcYznxa",
        "outputId": "3be198e4-9765-437b-e979-cf135652c1e4"
      },
      "execution_count": null,
      "outputs": [
        {
          "output_type": "execute_result",
          "data": {
            "text/plain": [
              "array([[0.8, 0.2],\n",
              "       [0.4, 0.6],\n",
              "       [0.8, 0.2],\n",
              "       [0.7, 0.3],\n",
              "       [0.8, 0.2],\n",
              "       [1. , 0. ],\n",
              "       [1. , 0. ],\n",
              "       [0.3, 0.7],\n",
              "       [0.9, 0.1],\n",
              "       [0.3, 0.7],\n",
              "       [0.5, 0.5],\n",
              "       [0.8, 0.2],\n",
              "       [0.2, 0.8],\n",
              "       [0.8, 0.2],\n",
              "       [0.7, 0.3],\n",
              "       [0.8, 0.2],\n",
              "       [0.9, 0.1],\n",
              "       [0.4, 0.6],\n",
              "       [0.8, 0.2],\n",
              "       [0.3, 0.7],\n",
              "       [0.8, 0.2],\n",
              "       [0.9, 0.1],\n",
              "       [0.8, 0.2],\n",
              "       [0.9, 0.1],\n",
              "       [0.8, 0.2],\n",
              "       [0.4, 0.6],\n",
              "       [1. , 0. ],\n",
              "       [0.8, 0.2],\n",
              "       [0.3, 0.7],\n",
              "       [0.3, 0.7],\n",
              "       [1. , 0. ],\n",
              "       [0.4, 0.6],\n",
              "       [1. , 0. ],\n",
              "       [0.4, 0.6],\n",
              "       [0.8, 0.2],\n",
              "       [0.2, 0.8],\n",
              "       [0.9, 0.1],\n",
              "       [0.7, 0.3],\n",
              "       [0.5, 0.5],\n",
              "       [0.8, 0.2],\n",
              "       [0.8, 0.2],\n",
              "       [1. , 0. ],\n",
              "       [0.4, 0.6],\n",
              "       [0.5, 0.5],\n",
              "       [0.5, 0.5],\n",
              "       [0.9, 0.1],\n",
              "       [0.8, 0.2],\n",
              "       [0.2, 0.8],\n",
              "       [0.4, 0.6],\n",
              "       [0.4, 0.6],\n",
              "       [0.8, 0.2],\n",
              "       [0.3, 0.7],\n",
              "       [0.3, 0.7],\n",
              "       [0.9, 0.1],\n",
              "       [1. , 0. ],\n",
              "       [0.5, 0.5],\n",
              "       [0.8, 0.2],\n",
              "       [1. , 0. ],\n",
              "       [0.5, 0.5],\n",
              "       [0.5, 0.5],\n",
              "       [0.3, 0.7],\n",
              "       [0.3, 0.7],\n",
              "       [1. , 0. ],\n",
              "       [0.3, 0.7],\n",
              "       [0.4, 0.6],\n",
              "       [0.6, 0.4],\n",
              "       [0.4, 0.6],\n",
              "       [1. , 0. ],\n",
              "       [0.9, 0.1],\n",
              "       [0.7, 0.3],\n",
              "       [0.3, 0.7],\n",
              "       [0.5, 0.5],\n",
              "       [0.7, 0.3],\n",
              "       [0.3, 0.7],\n",
              "       [0.8, 0.2],\n",
              "       [0.2, 0.8],\n",
              "       [1. , 0. ],\n",
              "       [1. , 0. ],\n",
              "       [0.3, 0.7],\n",
              "       [0.8, 0.2],\n",
              "       [1. , 0. ],\n",
              "       [1. , 0. ],\n",
              "       [0.9, 0.1],\n",
              "       [0.5, 0.5],\n",
              "       [0.8, 0.2],\n",
              "       [0.9, 0.1],\n",
              "       [0.3, 0.7],\n",
              "       [0.5, 0.5],\n",
              "       [1. , 0. ],\n",
              "       [1. , 0. ],\n",
              "       [0.8, 0.2],\n",
              "       [0.4, 0.6],\n",
              "       [0.9, 0.1],\n",
              "       [0.5, 0.5],\n",
              "       [0.3, 0.7],\n",
              "       [0.9, 0.1],\n",
              "       [0.3, 0.7],\n",
              "       [0.7, 0.3],\n",
              "       [0.7, 0.3],\n",
              "       [0.7, 0.3]])"
            ]
          },
          "metadata": {},
          "execution_count": 52
        }
      ]
    },
    {
      "cell_type": "code",
      "source": [
        "from sklearn.metrics import accuracy_score"
      ],
      "metadata": {
        "id": "K3FBNOQNvtzu"
      },
      "execution_count": null,
      "outputs": []
    },
    {
      "cell_type": "code",
      "source": [
        "accuracy_score(y_test,ypred)"
      ],
      "metadata": {
        "colab": {
          "base_uri": "https://localhost:8080/"
        },
        "id": "xQHuQHs_yUSG",
        "outputId": "09afd236-b009-402c-993d-805fa3f53c15"
      },
      "execution_count": null,
      "outputs": [
        {
          "output_type": "execute_result",
          "data": {
            "text/plain": [
              "0.89"
            ]
          },
          "metadata": {},
          "execution_count": 54
        }
      ]
    },
    {
      "cell_type": "markdown",
      "source": [
        "                          BOOSTING CLASSIFIER -AdaBoost Classifier\n",
        "\n"
      ],
      "metadata": {
        "id": "_pk8QEne9KFs"
      }
    },
    {
      "cell_type": "code",
      "source": [
        "from sklearn.ensemble import AdaBoostClassifier\n",
        "from sklearn.tree import DecisionTreeClassifier"
      ],
      "metadata": {
        "id": "qV49AW509YBC"
      },
      "execution_count": null,
      "outputs": []
    },
    {
      "cell_type": "code",
      "source": [
        "adaboost = AdaBoostClassifier(base_estimator=DecisionTreeClassifier(max_depth=3, class_weight='balanced'),n_estimators=300, learning_rate=0.5)"
      ],
      "metadata": {
        "id": "W8A6aEWE9gn4"
      },
      "execution_count": null,
      "outputs": []
    },
    {
      "cell_type": "code",
      "source": [
        "adaboost.fit(x_train, y_train)"
      ],
      "metadata": {
        "colab": {
          "base_uri": "https://localhost:8080/"
        },
        "id": "PIlrMV7H-UlS",
        "outputId": "1696110a-7c88-494a-b903-ad91303a71b9"
      },
      "execution_count": null,
      "outputs": [
        {
          "output_type": "execute_result",
          "data": {
            "text/plain": [
              "AdaBoostClassifier(base_estimator=DecisionTreeClassifier(class_weight='balanced',\n",
              "                                                         max_depth=3),\n",
              "                   learning_rate=0.5, n_estimators=300)"
            ]
          },
          "metadata": {},
          "execution_count": 57
        }
      ]
    },
    {
      "cell_type": "code",
      "source": [
        "ypred=adaboost.predict(x_test)\n",
        "adaboost.predict_proba(x_test)\n"
      ],
      "metadata": {
        "colab": {
          "base_uri": "https://localhost:8080/"
        },
        "id": "mz_lFVge-ore",
        "outputId": "7db629fb-9034-4bd9-db93-89ef57586030"
      },
      "execution_count": null,
      "outputs": [
        {
          "output_type": "execute_result",
          "data": {
            "text/plain": [
              "array([[1.00000000e+00, 2.22044605e-16],\n",
              "       [2.22044605e-16, 1.00000000e+00],\n",
              "       [1.00000000e+00, 2.22044605e-16],\n",
              "       [1.00000000e+00, 2.22044605e-16],\n",
              "       [1.00000000e+00, 2.22044605e-16],\n",
              "       [1.00000000e+00, 2.22044605e-16],\n",
              "       [1.00000000e+00, 2.22044605e-16],\n",
              "       [2.22044605e-16, 1.00000000e+00],\n",
              "       [1.00000000e+00, 2.22044605e-16],\n",
              "       [2.22044605e-16, 1.00000000e+00],\n",
              "       [2.22044605e-16, 1.00000000e+00],\n",
              "       [1.00000000e+00, 2.22044605e-16],\n",
              "       [2.22044605e-16, 1.00000000e+00],\n",
              "       [1.00000000e+00, 2.22044605e-16],\n",
              "       [1.00000000e+00, 2.22044605e-16],\n",
              "       [1.00000000e+00, 2.22044605e-16],\n",
              "       [1.00000000e+00, 2.22044605e-16],\n",
              "       [2.22044605e-16, 1.00000000e+00],\n",
              "       [1.00000000e+00, 2.22044605e-16],\n",
              "       [2.22044605e-16, 1.00000000e+00],\n",
              "       [1.00000000e+00, 2.22044605e-16],\n",
              "       [1.00000000e+00, 2.22044605e-16],\n",
              "       [1.00000000e+00, 2.22044605e-16],\n",
              "       [1.00000000e+00, 2.22044605e-16],\n",
              "       [1.00000000e+00, 2.22044605e-16],\n",
              "       [2.22044605e-16, 1.00000000e+00],\n",
              "       [1.00000000e+00, 2.22044605e-16],\n",
              "       [1.00000000e+00, 2.22044605e-16],\n",
              "       [2.22044605e-16, 1.00000000e+00],\n",
              "       [2.22044605e-16, 1.00000000e+00],\n",
              "       [1.00000000e+00, 2.22044605e-16],\n",
              "       [2.22044605e-16, 1.00000000e+00],\n",
              "       [1.00000000e+00, 2.22044605e-16],\n",
              "       [2.22044605e-16, 1.00000000e+00],\n",
              "       [1.00000000e+00, 2.22044605e-16],\n",
              "       [2.22044605e-16, 1.00000000e+00],\n",
              "       [1.00000000e+00, 2.22044605e-16],\n",
              "       [1.00000000e+00, 2.22044605e-16],\n",
              "       [2.22044605e-16, 1.00000000e+00],\n",
              "       [1.00000000e+00, 2.22044605e-16],\n",
              "       [1.00000000e+00, 2.22044605e-16],\n",
              "       [1.00000000e+00, 2.22044605e-16],\n",
              "       [2.22044605e-16, 1.00000000e+00],\n",
              "       [2.22044605e-16, 1.00000000e+00],\n",
              "       [2.22044605e-16, 1.00000000e+00],\n",
              "       [1.00000000e+00, 2.22044605e-16],\n",
              "       [1.00000000e+00, 2.22044605e-16],\n",
              "       [2.22044605e-16, 1.00000000e+00],\n",
              "       [2.22044605e-16, 1.00000000e+00],\n",
              "       [2.22044605e-16, 1.00000000e+00],\n",
              "       [1.00000000e+00, 2.22044605e-16],\n",
              "       [2.22044605e-16, 1.00000000e+00],\n",
              "       [2.22044605e-16, 1.00000000e+00],\n",
              "       [1.00000000e+00, 2.22044605e-16],\n",
              "       [1.00000000e+00, 2.22044605e-16],\n",
              "       [2.22044605e-16, 1.00000000e+00],\n",
              "       [1.00000000e+00, 2.22044605e-16],\n",
              "       [1.00000000e+00, 2.22044605e-16],\n",
              "       [2.22044605e-16, 1.00000000e+00],\n",
              "       [2.22044605e-16, 1.00000000e+00],\n",
              "       [2.22044605e-16, 1.00000000e+00],\n",
              "       [2.22044605e-16, 1.00000000e+00],\n",
              "       [1.00000000e+00, 2.22044605e-16],\n",
              "       [2.22044605e-16, 1.00000000e+00],\n",
              "       [2.22044605e-16, 1.00000000e+00],\n",
              "       [1.00000000e+00, 2.22044605e-16],\n",
              "       [2.22044605e-16, 1.00000000e+00],\n",
              "       [1.00000000e+00, 2.22044605e-16],\n",
              "       [1.00000000e+00, 2.22044605e-16],\n",
              "       [1.00000000e+00, 2.22044605e-16],\n",
              "       [2.22044605e-16, 1.00000000e+00],\n",
              "       [2.22044605e-16, 1.00000000e+00],\n",
              "       [1.00000000e+00, 2.22044605e-16],\n",
              "       [2.22044605e-16, 1.00000000e+00],\n",
              "       [1.00000000e+00, 2.22044605e-16],\n",
              "       [2.22044605e-16, 1.00000000e+00],\n",
              "       [1.00000000e+00, 2.22044605e-16],\n",
              "       [1.00000000e+00, 2.22044605e-16],\n",
              "       [2.22044605e-16, 1.00000000e+00],\n",
              "       [1.00000000e+00, 2.22044605e-16],\n",
              "       [1.00000000e+00, 2.22044605e-16],\n",
              "       [1.00000000e+00, 2.22044605e-16],\n",
              "       [1.00000000e+00, 2.22044605e-16],\n",
              "       [2.22044605e-16, 1.00000000e+00],\n",
              "       [1.00000000e+00, 2.22044605e-16],\n",
              "       [1.00000000e+00, 2.22044605e-16],\n",
              "       [2.22044605e-16, 1.00000000e+00],\n",
              "       [2.22044605e-16, 1.00000000e+00],\n",
              "       [1.00000000e+00, 2.22044605e-16],\n",
              "       [1.00000000e+00, 2.22044605e-16],\n",
              "       [1.00000000e+00, 2.22044605e-16],\n",
              "       [2.22044605e-16, 1.00000000e+00],\n",
              "       [1.00000000e+00, 2.22044605e-16],\n",
              "       [2.22044605e-16, 1.00000000e+00],\n",
              "       [2.22044605e-16, 1.00000000e+00],\n",
              "       [1.00000000e+00, 2.22044605e-16],\n",
              "       [2.22044605e-16, 1.00000000e+00],\n",
              "       [1.00000000e+00, 2.22044605e-16],\n",
              "       [1.00000000e+00, 2.22044605e-16],\n",
              "       [1.00000000e+00, 2.22044605e-16]])"
            ]
          },
          "metadata": {},
          "execution_count": 58
        }
      ]
    },
    {
      "cell_type": "code",
      "source": [
        "from sklearn.metrics import accuracy_score"
      ],
      "metadata": {
        "id": "Ah3oCnvL-9nK"
      },
      "execution_count": null,
      "outputs": []
    },
    {
      "cell_type": "code",
      "source": [
        "accuracy_score(y_test,ypred)"
      ],
      "metadata": {
        "colab": {
          "base_uri": "https://localhost:8080/"
        },
        "id": "BjOUJ0OF_Cmq",
        "outputId": "bf5af659-3d63-4f31-9cc3-8f486390733e"
      },
      "execution_count": null,
      "outputs": [
        {
          "output_type": "execute_result",
          "data": {
            "text/plain": [
              "1.0"
            ]
          },
          "metadata": {},
          "execution_count": 60
        }
      ]
    },
    {
      "cell_type": "markdown",
      "source": [
        "                                         BOOSTING CLASSIFIER -GRADIENT BOOSTING\n"
      ],
      "metadata": {
        "id": "wA4wEZryABIb"
      }
    },
    {
      "cell_type": "code",
      "source": [
        "from sklearn.ensemble import GradientBoostingClassifier\n"
      ],
      "metadata": {
        "id": "kq28RbzN_BW-"
      },
      "execution_count": null,
      "outputs": []
    },
    {
      "cell_type": "code",
      "source": [
        "\n",
        "grad_boost = GradientBoostingClassifier(n_estimators=500,learning_rate=0.8,random_state=42,max_depth=2)\n"
      ],
      "metadata": {
        "id": "ivWJjk-bAauO"
      },
      "execution_count": null,
      "outputs": []
    },
    {
      "cell_type": "code",
      "source": [
        "grad_boost.fit(x_train, y_train)"
      ],
      "metadata": {
        "colab": {
          "base_uri": "https://localhost:8080/"
        },
        "id": "79Sux149AdrM",
        "outputId": "12367a61-773c-4f4d-d117-1f4ecf50ccf0"
      },
      "execution_count": null,
      "outputs": [
        {
          "output_type": "execute_result",
          "data": {
            "text/plain": [
              "GradientBoostingClassifier(learning_rate=0.8, max_depth=2, n_estimators=500,\n",
              "                           random_state=42)"
            ]
          },
          "metadata": {},
          "execution_count": 63
        }
      ]
    },
    {
      "cell_type": "code",
      "source": [
        "ypred=grad_boost.predict(x_test)\n",
        "grad_boost.predict_proba(x_test)\n"
      ],
      "metadata": {
        "colab": {
          "base_uri": "https://localhost:8080/"
        },
        "id": "LYZV_X_VAu0n",
        "outputId": "830f2abb-fb84-49ed-d218-2c0d5d1f3003"
      },
      "execution_count": null,
      "outputs": [
        {
          "output_type": "execute_result",
          "data": {
            "text/plain": [
              "array([[9.99999995e-01, 4.78862260e-09],\n",
              "       [9.43500889e-09, 9.99999991e-01],\n",
              "       [9.99999995e-01, 4.78862260e-09],\n",
              "       [9.99999995e-01, 4.78862260e-09],\n",
              "       [9.99999995e-01, 4.78862260e-09],\n",
              "       [9.99999995e-01, 4.78862260e-09],\n",
              "       [9.99999995e-01, 4.78862260e-09],\n",
              "       [9.43500889e-09, 9.99999991e-01],\n",
              "       [9.99999995e-01, 4.78862260e-09],\n",
              "       [9.43500889e-09, 9.99999991e-01],\n",
              "       [9.43500889e-09, 9.99999991e-01],\n",
              "       [9.99999995e-01, 4.78862260e-09],\n",
              "       [9.43500889e-09, 9.99999991e-01],\n",
              "       [9.99999995e-01, 4.78862260e-09],\n",
              "       [9.99999995e-01, 4.78862260e-09],\n",
              "       [9.99999995e-01, 4.78862260e-09],\n",
              "       [9.99999995e-01, 4.78862260e-09],\n",
              "       [9.43500889e-09, 9.99999991e-01],\n",
              "       [9.99999995e-01, 4.78862260e-09],\n",
              "       [9.43500889e-09, 9.99999991e-01],\n",
              "       [9.99999995e-01, 4.78862260e-09],\n",
              "       [9.99999995e-01, 4.78862260e-09],\n",
              "       [9.99999995e-01, 4.78862260e-09],\n",
              "       [9.99999995e-01, 4.78862260e-09],\n",
              "       [9.99999995e-01, 4.78862260e-09],\n",
              "       [9.43500889e-09, 9.99999991e-01],\n",
              "       [9.99999995e-01, 4.78862260e-09],\n",
              "       [9.99999995e-01, 4.78862260e-09],\n",
              "       [9.43500889e-09, 9.99999991e-01],\n",
              "       [9.43500889e-09, 9.99999991e-01],\n",
              "       [9.99999995e-01, 4.78862260e-09],\n",
              "       [9.43500889e-09, 9.99999991e-01],\n",
              "       [9.99999995e-01, 4.78862260e-09],\n",
              "       [9.43500889e-09, 9.99999991e-01],\n",
              "       [9.99999995e-01, 4.78862260e-09],\n",
              "       [9.43500889e-09, 9.99999991e-01],\n",
              "       [9.99999995e-01, 4.78862260e-09],\n",
              "       [9.99999995e-01, 4.78862260e-09],\n",
              "       [9.43500889e-09, 9.99999991e-01],\n",
              "       [9.99999995e-01, 4.78862260e-09],\n",
              "       [9.99999995e-01, 4.78862260e-09],\n",
              "       [9.99999995e-01, 4.78862260e-09],\n",
              "       [9.43500889e-09, 9.99999991e-01],\n",
              "       [9.43500889e-09, 9.99999991e-01],\n",
              "       [9.43500889e-09, 9.99999991e-01],\n",
              "       [9.99999995e-01, 4.78862260e-09],\n",
              "       [9.99999995e-01, 4.78862260e-09],\n",
              "       [9.43500889e-09, 9.99999991e-01],\n",
              "       [9.43500889e-09, 9.99999991e-01],\n",
              "       [9.43500889e-09, 9.99999991e-01],\n",
              "       [9.99999995e-01, 4.78862260e-09],\n",
              "       [9.43500889e-09, 9.99999991e-01],\n",
              "       [9.43500889e-09, 9.99999991e-01],\n",
              "       [9.99999995e-01, 4.78862260e-09],\n",
              "       [9.99999995e-01, 4.78862260e-09],\n",
              "       [9.43500889e-09, 9.99999991e-01],\n",
              "       [9.99999995e-01, 4.78862260e-09],\n",
              "       [9.99999995e-01, 4.78862260e-09],\n",
              "       [9.43500889e-09, 9.99999991e-01],\n",
              "       [9.43500889e-09, 9.99999991e-01],\n",
              "       [9.43500889e-09, 9.99999991e-01],\n",
              "       [9.43500889e-09, 9.99999991e-01],\n",
              "       [9.99999995e-01, 4.78862260e-09],\n",
              "       [9.43500889e-09, 9.99999991e-01],\n",
              "       [9.43500889e-09, 9.99999991e-01],\n",
              "       [9.99999995e-01, 4.78862260e-09],\n",
              "       [9.43500889e-09, 9.99999991e-01],\n",
              "       [9.99999995e-01, 4.78862260e-09],\n",
              "       [9.99999995e-01, 4.78862260e-09],\n",
              "       [9.99999995e-01, 4.78862260e-09],\n",
              "       [9.43500889e-09, 9.99999991e-01],\n",
              "       [9.43500889e-09, 9.99999991e-01],\n",
              "       [9.99999995e-01, 4.78862260e-09],\n",
              "       [9.43500889e-09, 9.99999991e-01],\n",
              "       [9.99999995e-01, 4.78862260e-09],\n",
              "       [9.43500889e-09, 9.99999991e-01],\n",
              "       [9.99999995e-01, 4.78862260e-09],\n",
              "       [9.99999995e-01, 4.78862260e-09],\n",
              "       [9.43500889e-09, 9.99999991e-01],\n",
              "       [9.99999995e-01, 4.78862260e-09],\n",
              "       [9.99999995e-01, 4.78862260e-09],\n",
              "       [9.99999995e-01, 4.78862260e-09],\n",
              "       [9.99999995e-01, 4.78862260e-09],\n",
              "       [9.43500889e-09, 9.99999991e-01],\n",
              "       [9.99999995e-01, 4.78862260e-09],\n",
              "       [9.99999995e-01, 4.78862260e-09],\n",
              "       [9.43500889e-09, 9.99999991e-01],\n",
              "       [9.43500889e-09, 9.99999991e-01],\n",
              "       [9.99999995e-01, 4.78862260e-09],\n",
              "       [9.99999995e-01, 4.78862260e-09],\n",
              "       [9.99999995e-01, 4.78862260e-09],\n",
              "       [9.43500889e-09, 9.99999991e-01],\n",
              "       [9.99999995e-01, 4.78862260e-09],\n",
              "       [9.43500889e-09, 9.99999991e-01],\n",
              "       [9.43500889e-09, 9.99999991e-01],\n",
              "       [9.99999995e-01, 4.78862260e-09],\n",
              "       [9.43500889e-09, 9.99999991e-01],\n",
              "       [9.99999995e-01, 4.78862260e-09],\n",
              "       [9.99999995e-01, 4.78862260e-09],\n",
              "       [9.99999995e-01, 4.78862260e-09]])"
            ]
          },
          "metadata": {},
          "execution_count": 64
        }
      ]
    },
    {
      "cell_type": "code",
      "source": [
        "from sklearn.metrics import accuracy_score"
      ],
      "metadata": {
        "id": "bZyXC_clA8V4"
      },
      "execution_count": null,
      "outputs": []
    },
    {
      "cell_type": "code",
      "source": [
        "accuracy_score(y_test,ypred)"
      ],
      "metadata": {
        "colab": {
          "base_uri": "https://localhost:8080/"
        },
        "id": "W39go9J2BCij",
        "outputId": "21e5c00a-c1c2-4fc7-813d-c9b130222f79"
      },
      "execution_count": null,
      "outputs": [
        {
          "output_type": "execute_result",
          "data": {
            "text/plain": [
              "1.0"
            ]
          },
          "metadata": {},
          "execution_count": 66
        }
      ]
    },
    {
      "cell_type": "markdown",
      "source": [
        "                                              BOOSTING CLASSIFIER-XG BOOST CLASSIFIER"
      ],
      "metadata": {
        "id": "mUeVCjPGBQID"
      }
    },
    {
      "cell_type": "code",
      "source": [
        "import xgboost as xgb"
      ],
      "metadata": {
        "id": "x5iU9wsqBgu7"
      },
      "execution_count": null,
      "outputs": []
    },
    {
      "cell_type": "code",
      "source": [
        "xgb_cla= xgb.XGBClassifier()\n"
      ],
      "metadata": {
        "id": "_MX8vHi7BslW"
      },
      "execution_count": null,
      "outputs": []
    },
    {
      "cell_type": "code",
      "source": [
        "xgb_cla.fit(x_train, y_train)\n"
      ],
      "metadata": {
        "colab": {
          "base_uri": "https://localhost:8080/"
        },
        "id": "0zNaoru4B4m2",
        "outputId": "7e04ee64-6de4-4fe4-bd5a-00ca60b8fae9"
      },
      "execution_count": null,
      "outputs": [
        {
          "output_type": "execute_result",
          "data": {
            "text/plain": [
              "XGBClassifier()"
            ]
          },
          "metadata": {},
          "execution_count": 69
        }
      ]
    },
    {
      "cell_type": "code",
      "source": [
        "ypred=xgb_cla.predict(x_test)\n",
        "xgb_cla.predict_proba(x_test)\n"
      ],
      "metadata": {
        "colab": {
          "base_uri": "https://localhost:8080/"
        },
        "id": "3GHxX1-IB67c",
        "outputId": "1fefae4d-f99c-4338-9b47-509253f13924"
      },
      "execution_count": null,
      "outputs": [
        {
          "output_type": "execute_result",
          "data": {
            "text/plain": [
              "array([[0.9951206 , 0.00487943],\n",
              "       [0.00933284, 0.99066716],\n",
              "       [0.9945162 , 0.0054838 ],\n",
              "       [0.9945162 , 0.0054838 ],\n",
              "       [0.9945162 , 0.0054838 ],\n",
              "       [0.9945162 , 0.0054838 ],\n",
              "       [0.9951206 , 0.00487943],\n",
              "       [0.00933284, 0.99066716],\n",
              "       [0.9951206 , 0.00487943],\n",
              "       [0.01048309, 0.9895169 ],\n",
              "       [0.01048309, 0.9895169 ],\n",
              "       [0.99463   , 0.00537003],\n",
              "       [0.00933284, 0.99066716],\n",
              "       [0.9945162 , 0.0054838 ],\n",
              "       [0.9951206 , 0.00487943],\n",
              "       [0.9945162 , 0.0054838 ],\n",
              "       [0.9945162 , 0.0054838 ],\n",
              "       [0.01048309, 0.9895169 ],\n",
              "       [0.9945162 , 0.0054838 ],\n",
              "       [0.00933284, 0.99066716],\n",
              "       [0.9945162 , 0.0054838 ],\n",
              "       [0.9951206 , 0.00487943],\n",
              "       [0.9945162 , 0.0054838 ],\n",
              "       [0.9945162 , 0.0054838 ],\n",
              "       [0.99463   , 0.00537003],\n",
              "       [0.01065123, 0.98934877],\n",
              "       [0.9945162 , 0.0054838 ],\n",
              "       [0.9951206 , 0.00487943],\n",
              "       [0.00952983, 0.9904702 ],\n",
              "       [0.01048309, 0.9895169 ],\n",
              "       [0.9951206 , 0.00487943],\n",
              "       [0.01048309, 0.9895169 ],\n",
              "       [0.9945162 , 0.0054838 ],\n",
              "       [0.00933284, 0.99066716],\n",
              "       [0.9951981 , 0.00480192],\n",
              "       [0.01048309, 0.9895169 ],\n",
              "       [0.9945162 , 0.0054838 ],\n",
              "       [0.9951206 , 0.00487943],\n",
              "       [0.00933284, 0.99066716],\n",
              "       [0.9945162 , 0.0054838 ],\n",
              "       [0.99463   , 0.00537003],\n",
              "       [0.9945162 , 0.0054838 ],\n",
              "       [0.00933284, 0.99066716],\n",
              "       [0.01048309, 0.9895169 ],\n",
              "       [0.00933284, 0.99066716],\n",
              "       [0.9951206 , 0.00487943],\n",
              "       [0.9951206 , 0.00487943],\n",
              "       [0.01048309, 0.9895169 ],\n",
              "       [0.01065123, 0.98934877],\n",
              "       [0.01048309, 0.9895169 ],\n",
              "       [0.9951206 , 0.00487943],\n",
              "       [0.00933284, 0.99066716],\n",
              "       [0.01048309, 0.9895169 ],\n",
              "       [0.9951206 , 0.00487943],\n",
              "       [0.9951206 , 0.00487943],\n",
              "       [0.01048309, 0.9895169 ],\n",
              "       [0.9945162 , 0.0054838 ],\n",
              "       [0.9951206 , 0.00487943],\n",
              "       [0.01048309, 0.9895169 ],\n",
              "       [0.01048309, 0.9895169 ],\n",
              "       [0.00933284, 0.99066716],\n",
              "       [0.01048309, 0.9895169 ],\n",
              "       [0.9951206 , 0.00487943],\n",
              "       [0.01048309, 0.9895169 ],\n",
              "       [0.00933284, 0.99066716],\n",
              "       [0.9945162 , 0.0054838 ],\n",
              "       [0.00933284, 0.99066716],\n",
              "       [0.9951206 , 0.00487943],\n",
              "       [0.9945162 , 0.0054838 ],\n",
              "       [0.9951206 , 0.00487943],\n",
              "       [0.00933284, 0.99066716],\n",
              "       [0.01048309, 0.9895169 ],\n",
              "       [0.9945162 , 0.0054838 ],\n",
              "       [0.00952983, 0.9904702 ],\n",
              "       [0.9951206 , 0.00487943],\n",
              "       [0.01048309, 0.9895169 ],\n",
              "       [0.9945162 , 0.0054838 ],\n",
              "       [0.9951206 , 0.00487943],\n",
              "       [0.00952983, 0.9904702 ],\n",
              "       [0.9945162 , 0.0054838 ],\n",
              "       [0.9945162 , 0.0054838 ],\n",
              "       [0.9951206 , 0.00487943],\n",
              "       [0.9951206 , 0.00487943],\n",
              "       [0.01048309, 0.9895169 ],\n",
              "       [0.9945162 , 0.0054838 ],\n",
              "       [0.9945162 , 0.0054838 ],\n",
              "       [0.00933284, 0.99066716],\n",
              "       [0.01048309, 0.9895169 ],\n",
              "       [0.9951206 , 0.00487943],\n",
              "       [0.9951206 , 0.00487943],\n",
              "       [0.9945162 , 0.0054838 ],\n",
              "       [0.01048309, 0.9895169 ],\n",
              "       [0.99463   , 0.00537003],\n",
              "       [0.01048309, 0.9895169 ],\n",
              "       [0.01048309, 0.9895169 ],\n",
              "       [0.9951206 , 0.00487943],\n",
              "       [0.01048309, 0.9895169 ],\n",
              "       [0.9945162 , 0.0054838 ],\n",
              "       [0.9951206 , 0.00487943],\n",
              "       [0.9951206 , 0.00487943]], dtype=float32)"
            ]
          },
          "metadata": {},
          "execution_count": 70
        }
      ]
    },
    {
      "cell_type": "code",
      "source": [
        "from sklearn.metrics import accuracy_score"
      ],
      "metadata": {
        "id": "09CXIpiNCILG"
      },
      "execution_count": null,
      "outputs": []
    },
    {
      "cell_type": "code",
      "source": [
        "accuracy_score(y_test,ypred)"
      ],
      "metadata": {
        "colab": {
          "base_uri": "https://localhost:8080/"
        },
        "id": "OEFQ-01kCOJF",
        "outputId": "569a4ffb-01f6-4fc9-d2df-3255f15566da"
      },
      "execution_count": null,
      "outputs": [
        {
          "output_type": "execute_result",
          "data": {
            "text/plain": [
              "1.0"
            ]
          },
          "metadata": {},
          "execution_count": 72
        }
      ]
    }
  ]
}